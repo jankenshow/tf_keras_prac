{
 "cells": [
  {
   "cell_type": "code",
   "execution_count": 1,
   "metadata": {},
   "outputs": [],
   "source": [
    "from datetime import datetime\n",
    "import numpy as np\n",
    "import tensorflow as tf"
   ]
  },
  {
   "cell_type": "code",
   "execution_count": 2,
   "metadata": {},
   "outputs": [],
   "source": [
    "n_inputs = 28*28\n",
    "n_hidden1 = 300\n",
    "n_hidden2 = 100\n",
    "n_outputs = 10\n",
    "\n",
    "n_epochs = 40\n",
    "batch_size = 50\n",
    "\n",
    "now = datetime.utcnow().strftime(\"%Y%m%d%H%M%S\")\n",
    "root_logdir = \"tf_logs\"\n",
    "log_dir = \"{}/run-{}/\".format(root_logdir, now)"
   ]
  },
  {
   "cell_type": "code",
   "execution_count": 3,
   "metadata": {},
   "outputs": [],
   "source": [
    "X = tf.placeholder(tf.float32, shape=(None, n_inputs), name=\"X\")\n",
    "y = tf.placeholder(tf.int64, shape=(None), name=\"y\")\n",
    "\n",
    "# batch_normalizationのためのフラグ、学習時はTrueとしてミニバッチの平均を使用、予測時はFalseとして訓練セット全体の平均(移動平均)\n",
    "training = tf.placeholder_with_default(False, shape=(), name=\"training\")"
   ]
  },
  {
   "cell_type": "code",
   "execution_count": 4,
   "metadata": {},
   "outputs": [],
   "source": [
    "# with tf.name_scope(\"dnn\"):\n",
    "#     he_init = tf.contrib.layers.variance_scaling_initializer(mode=\"FAN_AVG\")\n",
    "    \n",
    "#     with tf.name_scope(\"hidden1\"):\n",
    "#         hidden1 = tf.layers.dense(X, n_hidden1, name=\"dense\", kernel_initializer=he_init)\n",
    "#         # batch normalizationの層　tf.nn.batch_normalizationはめんどくさい\n",
    "#         # 移動平均を計算するため、momentumの引数が必要(データセットが大きく、ミニバッチが小さい場合はより1に近い方が良いらしい)\n",
    "#         bn1 = tf.layers.batch_normalization(hidden1, training=training, momentum=0.9)\n",
    "#         bn1_act = tf.nn.elu(bn1) # 活性化関数はbatch_normalizationの後\n",
    "    \n",
    "#     with tf.name_scope(\"hidden2\"):\n",
    "#         hidden2 = tf.layers.dense(bn1_act, n_hidden2, name=\"dense\", kernel_initializer=he_init)\n",
    "#         bn2 = tf.layers.batch_normalization(hidden2, training=training, momentum=0.9)\n",
    "#         bn2_act = tf.nn.elu(bn2)\n",
    "    \n",
    "#     with tf.name_scope(\"logits\"):\n",
    "#         logits_before_bn = tf.layers.dense(bn2_act, n_outputs, name=\"outputs\", kernel_initializer=he_init)\n",
    "#         logits = tf.layers.batch_normalization(logits_before_bn, training=training, momentum=0.9)"
   ]
  },
  {
   "cell_type": "code",
   "execution_count": 5,
   "metadata": {},
   "outputs": [],
   "source": [
    "# 同じ関数に同じ引数を用いることが多いので、、\n",
    "from functools import partial\n",
    "# デフォルトの引数を指定した新たな関数\n",
    "my_batch_normalization = partial(tf.layers.batch_normalization, training=training, momentum=0.9)"
   ]
  },
  {
   "cell_type": "code",
   "execution_count": 6,
   "metadata": {},
   "outputs": [],
   "source": [
    "with tf.name_scope(\"dnn\"):\n",
    "    he_init1 = tf.contrib.layers.variance_scaling_initializer(mode=\"FAN_AVG\")\n",
    "    he_init2 = tf.contrib.layers.variance_scaling_initializer(mode=\"FAN_AVG\")\n",
    "    he_init3 = tf.contrib.layers.variance_scaling_initializer(mode=\"FAN_AVG\")\n",
    "    \n",
    "    with tf.name_scope(\"hidden1\"):\n",
    "        hidden1 = tf.layers.dense(X, n_hidden1, name=\"dense1\", kernel_initializer=he_init1)\n",
    "        bn1 = my_batch_normalization(hidden1)\n",
    "        bn1_act = tf.nn.elu(bn1) # 活性化関数はbatch_normalizationの後\n",
    "    \n",
    "    with tf.name_scope(\"hidden2\"):\n",
    "        hidden2 = tf.layers.dense(bn1_act, n_hidden2, name=\"dense2\", kernel_initializer=he_init2)\n",
    "        bn2 = my_batch_normalization(hidden2)\n",
    "        bn2_act = tf.nn.elu(bn2)\n",
    "    \n",
    "    with tf.name_scope(\"logits\"):\n",
    "        logits_before_bn = tf.layers.dense(bn2_act, n_outputs, name=\"outputs\", kernel_initializer=he_init3)\n",
    "        logits = my_batch_normalization(logits_before_bn)"
   ]
  },
  {
   "cell_type": "code",
   "execution_count": 7,
   "metadata": {},
   "outputs": [],
   "source": [
    "with tf.name_scope(\"loss\"):\n",
    "    xentropy = tf.nn.sparse_softmax_cross_entropy_with_logits(labels=y, logits=logits)\n",
    "    loss = tf.reduce_mean(xentropy, name=\"loss\")"
   ]
  },
  {
   "cell_type": "code",
   "execution_count": 8,
   "metadata": {},
   "outputs": [],
   "source": [
    "learning_rate = 0.01\n",
    "threshold = 1.0\n",
    "\n",
    "with tf.name_scope(\"train\"):\n",
    "    optimizer = tf.train.GradientDescentOptimizer(learning_rate)\n",
    "#     training_op = optimizer.minimize(loss)\n",
    "    # 勾配クリッピング : 勾配爆発問題を軽減するため、一定の閾値を越えないようにするテクニック\n",
    "    grads_and_vars = optimizer.compute_gradients(loss)\n",
    "    capped_gvs = [\n",
    "        (tf.clip_by_value(grad, -threshold, threshold), var)\n",
    "        for grad, var in grads_and_vars\n",
    "    ]\n",
    "    training_op = optimizer.apply_gradients(capped_gvs)"
   ]
  },
  {
   "cell_type": "code",
   "execution_count": 9,
   "metadata": {},
   "outputs": [],
   "source": [
    "with tf.name_scope(\"eval\"):\n",
    "    correct = tf.nn.in_top_k(logits, y, 1)\n",
    "    accuracy =  tf.reduce_mean(tf.cast(correct, tf.float32))"
   ]
  },
  {
   "cell_type": "code",
   "execution_count": 10,
   "metadata": {},
   "outputs": [],
   "source": [
    "init = tf.global_variables_initializer()\n",
    "saver = tf.train.Saver()\n",
    "\n",
    "with tf.name_scope(\"train_eval\"):\n",
    "    loss_summary_train = tf.summary.scalar('loss', loss)\n",
    "    acc_summary_train = tf.summary.scalar('accuracy', accuracy)\n",
    "    \n",
    "with tf.name_scope(\"val_eval\"):\n",
    "    loss_summary_val = tf.summary.scalar('loss', loss)\n",
    "    acc_summary_val = tf.summary.scalar('accuracy', accuracy)"
   ]
  },
  {
   "cell_type": "code",
   "execution_count": 11,
   "metadata": {},
   "outputs": [
    {
     "name": "stdout",
     "output_type": "stream",
     "text": [
      "WARNING:tensorflow:From <ipython-input-11-12194d56b79d>:2: read_data_sets (from tensorflow.contrib.learn.python.learn.datasets.mnist) is deprecated and will be removed in a future version.\n",
      "Instructions for updating:\n",
      "Please use alternatives such as official/mnist/dataset.py from tensorflow/models.\n",
      "WARNING:tensorflow:From /Users/suzukikensho/.pyenv/versions/3.6.0/lib/python3.6/site-packages/tensorflow/contrib/learn/python/learn/datasets/mnist.py:260: maybe_download (from tensorflow.contrib.learn.python.learn.datasets.base) is deprecated and will be removed in a future version.\n",
      "Instructions for updating:\n",
      "Please write your own downloading logic.\n",
      "WARNING:tensorflow:From /Users/suzukikensho/.pyenv/versions/3.6.0/lib/python3.6/site-packages/tensorflow/contrib/learn/python/learn/datasets/mnist.py:262: extract_images (from tensorflow.contrib.learn.python.learn.datasets.mnist) is deprecated and will be removed in a future version.\n",
      "Instructions for updating:\n",
      "Please use tf.data to implement this functionality.\n",
      "Extracting ~/tf_data/train-images-idx3-ubyte.gz\n",
      "WARNING:tensorflow:From /Users/suzukikensho/.pyenv/versions/3.6.0/lib/python3.6/site-packages/tensorflow/contrib/learn/python/learn/datasets/mnist.py:267: extract_labels (from tensorflow.contrib.learn.python.learn.datasets.mnist) is deprecated and will be removed in a future version.\n",
      "Instructions for updating:\n",
      "Please use tf.data to implement this functionality.\n",
      "Extracting ~/tf_data/train-labels-idx1-ubyte.gz\n",
      "Extracting ~/tf_data/t10k-images-idx3-ubyte.gz\n",
      "Extracting ~/tf_data/t10k-labels-idx1-ubyte.gz\n",
      "WARNING:tensorflow:From /Users/suzukikensho/.pyenv/versions/3.6.0/lib/python3.6/site-packages/tensorflow/contrib/learn/python/learn/datasets/mnist.py:290: DataSet.__init__ (from tensorflow.contrib.learn.python.learn.datasets.mnist) is deprecated and will be removed in a future version.\n",
      "Instructions for updating:\n",
      "Please use alternatives such as official/mnist/dataset.py from tensorflow/models.\n"
     ]
    }
   ],
   "source": [
    "from tensorflow.examples.tutorials.mnist import input_data\n",
    "mnist = input_data.read_data_sets(\"~/tf_data/\")"
   ]
  },
  {
   "cell_type": "code",
   "execution_count": 13,
   "metadata": {},
   "outputs": [],
   "source": [
    "# batch normalizationの移動平均を求めるため、自動でいくつかのオペレーションが作成され、UPDATE_OPSコレクションに追加される\n",
    "# これらのオペレーションも実行してあげる必要があるため、このコレクションのオペレーションを得て訓練で実行\n",
    "extra_update_ops = tf.get_collection(tf.GraphKeys.UPDATE_OPS)\n",
    "\n",
    "with tf.Session() as sess:\n",
    "    init.run()\n",
    "    \n",
    "    with tf.summary.FileWriter(log_dir, tf.get_default_graph()) as file_writer:\n",
    "        for epoch in range(n_epochs):\n",
    "            for iteration in range(mnist.train.num_examples // batch_size):\n",
    "                X_batch, y_batch = mnist.train.next_batch(batch_size)\n",
    "                sess.run([training_op,extra_update_ops], feed_dict={X: X_batch, y: y_batch, training: True})\n",
    "\n",
    "                train_list = [acc_summary_train, loss_summary_train]\n",
    "                loss_train, acc_train = sess.run(\n",
    "                    train_list,\n",
    "                    feed_dict={X: X_batch, y: y_batch})\n",
    "                file_writer.add_summary(loss_train, epoch)\n",
    "                file_writer.add_summary(acc_train, epoch)\n",
    "\n",
    "            val_list = [acc_summary_val, loss_summary_val]\n",
    "            loss_val, acc_val = sess.run(\n",
    "                val_list,\n",
    "                feed_dict={X: mnist.validation.images, y: mnist.validation.labels})\n",
    "            file_writer.add_summary(loss_val, epoch)\n",
    "            file_writer.add_summary(acc_val, epoch)\n",
    "\n",
    "        save_path = saver.save(sess, \"./logs/dnn_bn/my_model_final.ckpt\")"
   ]
  },
  {
   "cell_type": "code",
   "execution_count": null,
   "metadata": {},
   "outputs": [],
   "source": []
  }
 ],
 "metadata": {
  "kernelspec": {
   "display_name": "Python 3",
   "language": "python",
   "name": "python3"
  },
  "language_info": {
   "codemirror_mode": {
    "name": "ipython",
    "version": 3
   },
   "file_extension": ".py",
   "mimetype": "text/x-python",
   "name": "python",
   "nbconvert_exporter": "python",
   "pygments_lexer": "ipython3",
   "version": "3.6.0"
  }
 },
 "nbformat": 4,
 "nbformat_minor": 2
}
