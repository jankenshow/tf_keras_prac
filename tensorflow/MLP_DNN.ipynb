{
 "cells": [
  {
   "cell_type": "code",
   "execution_count": 1,
   "metadata": {},
   "outputs": [],
   "source": [
    "from datetime import datetime\n",
    "import numpy as np\n",
    "import tensorflow as tf"
   ]
  },
  {
   "cell_type": "code",
   "execution_count": 2,
   "metadata": {},
   "outputs": [],
   "source": [
    "n_inputs = 28*28\n",
    "n_hidden1 = 300\n",
    "n_hidden2 = 100\n",
    "n_outputs = 10"
   ]
  },
  {
   "cell_type": "code",
   "execution_count": 3,
   "metadata": {},
   "outputs": [],
   "source": [
    "X = tf.placeholder(tf.float32, shape=(None, n_inputs), name=\"X\")\n",
    "y = tf.placeholder(tf.int64, shape=(None), name=\"y\")"
   ]
  },
  {
   "cell_type": "code",
   "execution_count": 4,
   "metadata": {},
   "outputs": [],
   "source": [
    "def neuron_layer(X, n_neurons, name, activation=None):\n",
    "    with tf.name_scope(name):\n",
    "        n_inputs = int(X.get_shape()[1])\n",
    "        stddev = 2 / np.sqrt(n_inputs + n_neurons)\n",
    "        init = tf.truncated_normal((n_inputs, n_neurons), stddev=stddev)\n",
    "        W = tf.Variable(init, name=\"kernel\")\n",
    "        b = tf.Variable(tf.zeros([n_neurons]), name=\"bias\")\n",
    "        Z = tf.matmul(X, W) + b\n",
    "        if activation is not None:\n",
    "            return activation(Z)\n",
    "        else:\n",
    "            return Z"
   ]
  },
  {
   "cell_type": "code",
   "execution_count": 5,
   "metadata": {},
   "outputs": [],
   "source": [
    "with tf.name_scope(\"dnn\"):\n",
    "    hidden1 = neuron_layer(X, n_hidden1, name=\"hidden1\", activation=tf.nn.relu)\n",
    "    hidden2 = neuron_layer(hidden1, n_hidden2, name=\"hidden2\", activation=tf.nn.relu)\n",
    "    logits = neuron_layer(hidden2, n_outputs, name=\"outputs\")"
   ]
  },
  {
   "cell_type": "code",
   "execution_count": 6,
   "metadata": {},
   "outputs": [],
   "source": [
    "# # 上二つのセルはこの記述と同意\n",
    "# with tf.name_scope(\"dnn\"):\n",
    "#     he_init = tf.contrib.layers.variance_scaling_initializer(mode=\"FAN_AVG\") \n",
    "#     デフォルトでXavierの初期化になっているのを、heに変更(mode=\"FAN_AVG\"はファンインとファンアウトの双方を考慮、デフォではファンインのみ)\n",
    "#     elu活性化関数も用意されている\n",
    "#     hidden1 = tf.layers.dense(X, n_hidden1, name=\"hidden1\", kernel_initializer=he_init, activation=tf.nn.elu)\n",
    "#     hidden2 = tf.layers.dense(hidden1, n_hidden2, name=\"hidden2\", activation=tf.nn.relu)\n",
    "#     logits = tf.layers.dense(hidden2, n_outputs, name=\"outputs\")\n",
    "\n",
    "def leaky_relu(z, alpha=0.01, name=None):\n",
    "    return tf.maximum(alpha*z, z, name=name)"
   ]
  },
  {
   "cell_type": "code",
   "execution_count": 7,
   "metadata": {},
   "outputs": [
    {
     "data": {
      "text/plain": [
       "'\\nlogitsをソフトマックス関数に入力し、交差エントロピー(極小値の加算あり)を算出\\n\\ntf.nn.sparse_softmax_cross_entropy_with_logits(labels, logits)\\nlabels はクラスラベル [0,num_classes-1] のスカラー\\n\\ntf.nn.softmax_cross_entropy_with_logits(labels, logits)\\nlabels はクラスラベルのone-hot-vector\\n'"
      ]
     },
     "execution_count": 7,
     "metadata": {},
     "output_type": "execute_result"
    }
   ],
   "source": [
    "# 損失の計算\n",
    "with tf.name_scope(\"loss\"):\n",
    "    xentropy = tf.nn.sparse_softmax_cross_entropy_with_logits(labels=y, logits=logits)\n",
    "    loss = tf.reduce_mean(xentropy, name=\"loss\")\n",
    "    \n",
    "\"\"\"\n",
    "logitsをソフトマックス関数に入力し、交差エントロピー(極小値の加算あり)を算出\n",
    "\n",
    "tf.nn.sparse_softmax_cross_entropy_with_logits(labels, logits)\n",
    "labels はクラスラベル [0,num_classes-1] のスカラー\n",
    "\n",
    "tf.nn.softmax_cross_entropy_with_logits(labels, logits)\n",
    "labels はクラスラベルのone-hot-vector\n",
    "\"\"\""
   ]
  },
  {
   "cell_type": "code",
   "execution_count": 8,
   "metadata": {},
   "outputs": [],
   "source": [
    "# パラメータ更新\n",
    "learning_rate = 0.01\n",
    "\n",
    "with tf.name_scope(\"train\"):\n",
    "    optimizer = tf.train.GradientDescentOptimizer(learning_rate)\n",
    "    training_op = optimizer.minimize(loss)"
   ]
  },
  {
   "cell_type": "code",
   "execution_count": 9,
   "metadata": {},
   "outputs": [],
   "source": [
    "# 精度検証\n",
    "with tf.name_scope(\"eval\"):\n",
    "    correct = tf.nn.in_top_k(logits, y, 1) # 予測が正しいかどうかの論理値配列\n",
    "    accuracy =  tf.reduce_mean(tf.cast(correct, tf.float32)) # 論理値を浮動小数点型にキャストして、平均の計算"
   ]
  },
  {
   "cell_type": "code",
   "execution_count": 10,
   "metadata": {},
   "outputs": [],
   "source": [
    "init = tf.global_variables_initializer()\n",
    "saver = tf.train.Saver()\n",
    "\n",
    "# trainデータとvalidationデータでサマリーを分けたい場合は、以下のように保存する変数を変更する\n",
    "with tf.name_scope(\"train_eval\"):\n",
    "    loss_summary_train = tf.summary.scalar('loss', loss)\n",
    "    acc_summary_train = tf.summary.scalar('accuracy', accuracy)\n",
    "    \n",
    "with tf.name_scope(\"val_eval\"):\n",
    "    loss_summary_val = tf.summary.scalar('loss', loss)\n",
    "    acc_summary_val = tf.summary.scalar('accuracy', accuracy)\n",
    "\n",
    "# サマリーが複数ある場合はまとめることができるが、trainとvalidationとで入力データを分けているので、不適\n",
    "# merged_summary = tf.summary.merge_all()"
   ]
  },
  {
   "cell_type": "code",
   "execution_count": 11,
   "metadata": {},
   "outputs": [
    {
     "name": "stdout",
     "output_type": "stream",
     "text": [
      "WARNING:tensorflow:From <ipython-input-11-12194d56b79d>:2: read_data_sets (from tensorflow.contrib.learn.python.learn.datasets.mnist) is deprecated and will be removed in a future version.\n",
      "Instructions for updating:\n",
      "Please use alternatives such as official/mnist/dataset.py from tensorflow/models.\n",
      "WARNING:tensorflow:From /Users/suzukikensho/.pyenv/versions/3.6.0/lib/python3.6/site-packages/tensorflow/contrib/learn/python/learn/datasets/mnist.py:260: maybe_download (from tensorflow.contrib.learn.python.learn.datasets.base) is deprecated and will be removed in a future version.\n",
      "Instructions for updating:\n",
      "Please write your own downloading logic.\n",
      "WARNING:tensorflow:From /Users/suzukikensho/.pyenv/versions/3.6.0/lib/python3.6/site-packages/tensorflow/contrib/learn/python/learn/datasets/mnist.py:262: extract_images (from tensorflow.contrib.learn.python.learn.datasets.mnist) is deprecated and will be removed in a future version.\n",
      "Instructions for updating:\n",
      "Please use tf.data to implement this functionality.\n",
      "Extracting ~/tf_data/train-images-idx3-ubyte.gz\n",
      "WARNING:tensorflow:From /Users/suzukikensho/.pyenv/versions/3.6.0/lib/python3.6/site-packages/tensorflow/contrib/learn/python/learn/datasets/mnist.py:267: extract_labels (from tensorflow.contrib.learn.python.learn.datasets.mnist) is deprecated and will be removed in a future version.\n",
      "Instructions for updating:\n",
      "Please use tf.data to implement this functionality.\n",
      "Extracting ~/tf_data/train-labels-idx1-ubyte.gz\n",
      "Extracting ~/tf_data/t10k-images-idx3-ubyte.gz\n",
      "Extracting ~/tf_data/t10k-labels-idx1-ubyte.gz\n",
      "WARNING:tensorflow:From /Users/suzukikensho/.pyenv/versions/3.6.0/lib/python3.6/site-packages/tensorflow/contrib/learn/python/learn/datasets/mnist.py:290: DataSet.__init__ (from tensorflow.contrib.learn.python.learn.datasets.mnist) is deprecated and will be removed in a future version.\n",
      "Instructions for updating:\n",
      "Please use alternatives such as official/mnist/dataset.py from tensorflow/models.\n"
     ]
    }
   ],
   "source": [
    "from tensorflow.examples.tutorials.mnist import input_data\n",
    "mnist = input_data.read_data_sets(\"~/tf_data/\")"
   ]
  },
  {
   "cell_type": "code",
   "execution_count": 12,
   "metadata": {},
   "outputs": [],
   "source": [
    "n_epochs = 40\n",
    "batch_size = 50\n",
    "\n",
    "now = datetime.utcnow().strftime(\"%Y%m%d%H%M%S\")\n",
    "root_logdir = \"tf_logs\"\n",
    "log_dir = \"{}/run-{}/\".format(root_logdir, now)"
   ]
  },
  {
   "cell_type": "code",
   "execution_count": 14,
   "metadata": {},
   "outputs": [
    {
     "name": "stdout",
     "output_type": "stream",
     "text": [
      "0 Train accuracy : b'\\n\\x16\\n\\x0ftrain_eval/loss\\x15X\\x1d\\xca>' Val accuracy : b'\\n\\x14\\n\\rval_eval/loss\\x15\\xe9\\xcf\\xa4>'\n",
      "1 Train accuracy : b'\\n\\x16\\n\\x0ftrain_eval/loss\\x15\\x93G\\x03>' Val accuracy : b'\\n\\x14\\n\\rval_eval/loss\\x15\\x10\\x90\\x81>'\n",
      "2 Train accuracy : b'\\n\\x16\\n\\x0ftrain_eval/loss\\x15\\x9b\\xc0\\xe8=' Val accuracy : b'\\n\\x14\\n\\rval_eval/loss\\x15\\xd1\\xe9]>'\n",
      "3 Train accuracy : b'\\n\\x16\\n\\x0ftrain_eval/loss\\x15\\xbf\\xdd{>' Val accuracy : b'\\n\\x14\\n\\rval_eval/loss\\x15\\xed}E>'\n",
      "4 Train accuracy : b'\\n\\x16\\n\\x0ftrain_eval/loss\\x15\\x12\\xf5\\xea=' Val accuracy : b'\\n\\x14\\n\\rval_eval/loss\\x15\\xe0\\xb93>'\n",
      "5 Train accuracy : b'\\n\\x16\\n\\x0ftrain_eval/loss\\x15\\xd7\\xc3y>' Val accuracy : b'\\n\\x14\\n\\rval_eval/loss\\x15\\x8c\\x9d%>'\n",
      "6 Train accuracy : b'\\n\\x16\\n\\x0ftrain_eval/loss\\x15\\x9b\\x90\\xe2=' Val accuracy : b'\\n\\x14\\n\\rval_eval/loss\\x15\\x03p\\x1a>'\n",
      "7 Train accuracy : b'\\n\\x16\\n\\x0ftrain_eval/loss\\x15\\x04}\\x19>' Val accuracy : b'\\n\\x14\\n\\rval_eval/loss\\x15\\xe7S\\x12>'\n",
      "8 Train accuracy : b'\\n\\x16\\n\\x0ftrain_eval/loss\\x15qY\\x98=' Val accuracy : b'\\n\\x14\\n\\rval_eval/loss\\x15\\xacs\\x08>'\n",
      "9 Train accuracy : b'\\n\\x16\\n\\x0ftrain_eval/loss\\x15`\\xfc1=' Val accuracy : b'\\n\\x14\\n\\rval_eval/loss\\x15\\x8c\\xb5\\x02>'\n",
      "10 Train accuracy : b'\\n\\x16\\n\\x0ftrain_eval/loss\\x15\\xbfg\\x12>' Val accuracy : b'\\n\\x14\\n\\rval_eval/loss\\x15E\\x90\\xf9='\n",
      "11 Train accuracy : b'\\n\\x16\\n\\x0ftrain_eval/loss\\x15\\x8f5\\xbc=' Val accuracy : b'\\n\\x14\\n\\rval_eval/loss\\x15\\xf5\\xc2\\xf7='\n",
      "12 Train accuracy : b'\\n\\x16\\n\\x0ftrain_eval/loss\\x15\\x0f\\xe9\\xd1=' Val accuracy : b'\\n\\x14\\n\\rval_eval/loss\\x15a\\x18\\xe8='\n",
      "13 Train accuracy : b'\\n\\x16\\n\\x0ftrain_eval/loss\\x15\\xdd\\xbb\\x05>' Val accuracy : b'\\n\\x14\\n\\rval_eval/loss\\x15\\xdf\\xd0\\xe2='\n",
      "14 Train accuracy : b'\\n\\x16\\n\\x0ftrain_eval/loss\\x15T\\x928=' Val accuracy : b'\\n\\x14\\n\\rval_eval/loss\\x15\\xc3\\xa4\\xdc='\n",
      "15 Train accuracy : b'\\n\\x16\\n\\x0ftrain_eval/loss\\x15\\x11\\xa6U=' Val accuracy : b\"\\n\\x14\\n\\rval_eval/loss\\x15\\x99'\\xd1=\"\n",
      "16 Train accuracy : b'\\n\\x16\\n\\x0ftrain_eval/loss\\x15\\xe5e\\x1c=' Val accuracy : b'\\n\\x14\\n\\rval_eval/loss\\x15-z\\xd0='\n",
      "17 Train accuracy : b'\\n\\x16\\n\\x0ftrain_eval/loss\\x15\\xa8\\xcf9=' Val accuracy : b'\\n\\x14\\n\\rval_eval/loss\\x15\\x82c\\xca='\n",
      "18 Train accuracy : b'\\n\\x16\\n\\x0ftrain_eval/loss\\x15\\x0ccE=' Val accuracy : b'\\n\\x14\\n\\rval_eval/loss\\x15oB\\xcb='\n",
      "19 Train accuracy : b'\\n\\x16\\n\\x0ftrain_eval/loss\\x15\\x84W\\x87=' Val accuracy : b'\\n\\x14\\n\\rval_eval/loss\\x15\\xff\\t\\xc2='\n",
      "20 Train accuracy : b'\\n\\x16\\n\\x0ftrain_eval/loss\\x15-i7=' Val accuracy : b'\\n\\x14\\n\\rval_eval/loss\\x15O\\x97\\xba='\n",
      "21 Train accuracy : b'\\n\\x16\\n\\x0ftrain_eval/loss\\x15\\rA\\xd0<' Val accuracy : b'\\n\\x14\\n\\rval_eval/loss\\x15\\x184\\xb1='\n",
      "22 Train accuracy : b'\\n\\x16\\n\\x0ftrain_eval/loss\\x15?[S=' Val accuracy : b'\\n\\x14\\n\\rval_eval/loss\\x15m\\xc3\\xb2='\n",
      "23 Train accuracy : b'\\n\\x16\\n\\x0ftrain_eval/loss\\x15t\\x92k<' Val accuracy : b'\\n\\x14\\n\\rval_eval/loss\\x15\\x93\\xa2\\xaf='\n",
      "24 Train accuracy : b'\\n\\x16\\n\\x0ftrain_eval/loss\\x15ji\\r>' Val accuracy : b'\\n\\x14\\n\\rval_eval/loss\\x15\\x90\\x85\\xaa='\n",
      "25 Train accuracy : b'\\n\\x16\\n\\x0ftrain_eval/loss\\x15F\\t\\x01>' Val accuracy : b'\\n\\x14\\n\\rval_eval/loss\\x15)\\xa0\\xad='\n",
      "26 Train accuracy : b'\\n\\x16\\n\\x0ftrain_eval/loss\\x153ZR=' Val accuracy : b'\\n\\x14\\n\\rval_eval/loss\\x15w\\x1c\\xa5='\n",
      "27 Train accuracy : b'\\n\\x16\\n\\x0ftrain_eval/loss\\x15\\r\\x92\\x11=' Val accuracy : b'\\n\\x14\\n\\rval_eval/loss\\x15\\x19\\xb6\\xa4='\n",
      "28 Train accuracy : b'\\n\\x16\\n\\x0ftrain_eval/loss\\x15;\\xec[=' Val accuracy : b'\\n\\x14\\n\\rval_eval/loss\\x15\\x99\\x03\\x9f='\n",
      "29 Train accuracy : b'\\n\\x16\\n\\x0ftrain_eval/loss\\x15?>l=' Val accuracy : b'\\n\\x14\\n\\rval_eval/loss\\x15\\x18V\\x9e='\n",
      "30 Train accuracy : b'\\n\\x16\\n\\x0ftrain_eval/loss\\x15\\xd7\\xa9\\xb5=' Val accuracy : b'\\n\\x14\\n\\rval_eval/loss\\x15\\xc1<\\xa1='\n",
      "31 Train accuracy : b'\\n\\x16\\n\\x0ftrain_eval/loss\\x15\\x9c}f=' Val accuracy : b'\\n\\x14\\n\\rval_eval/loss\\x15wj\\x9f='\n",
      "32 Train accuracy : b'\\n\\x16\\n\\x0ftrain_eval/loss\\x15\\xc1\\x1eq<' Val accuracy : b'\\n\\x14\\n\\rval_eval/loss\\x15\\x1d\\t\\x9f='\n",
      "33 Train accuracy : b'\\n\\x16\\n\\x0ftrain_eval/loss\\x15F\\xde\\xc5<' Val accuracy : b'\\n\\x14\\n\\rval_eval/loss\\x15HT\\x9b='\n",
      "34 Train accuracy : b'\\n\\x16\\n\\x0ftrain_eval/loss\\x15\\xdf\\xec\\xc1<' Val accuracy : b'\\n\\x14\\n\\rval_eval/loss\\x15\\xb3.\\x9c='\n",
      "35 Train accuracy : b'\\n\\x16\\n\\x0ftrain_eval/loss\\x15\\x98cQ=' Val accuracy : b'\\n\\x14\\n\\rval_eval/loss\\x15\\xef\\xf9\\x96='\n",
      "36 Train accuracy : b'\\n\\x16\\n\\x0ftrain_eval/loss\\x15|y\\xdc<' Val accuracy : b'\\n\\x14\\n\\rval_eval/loss\\x15`p\\x95='\n",
      "37 Train accuracy : b'\\n\\x16\\n\\x0ftrain_eval/loss\\x15\\xc3\\x90x<' Val accuracy : b'\\n\\x14\\n\\rval_eval/loss\\x15\\r2\\x94='\n",
      "38 Train accuracy : b'\\n\\x16\\n\\x0ftrain_eval/loss\\x15\\xa8\\xa6+=' Val accuracy : b'\\n\\x14\\n\\rval_eval/loss\\x15\\xe3\\xb2\\x91='\n",
      "39 Train accuracy : b'\\n\\x16\\n\\x0ftrain_eval/loss\\x15r<\\x84<' Val accuracy : b'\\n\\x14\\n\\rval_eval/loss\\x15\\x9c\\xea\\x92='\n"
     ]
    }
   ],
   "source": [
    "with tf.Session() as sess:\n",
    "    init.run()\n",
    "    \n",
    "    with tf.summary.FileWriter(log_dir, tf.get_default_graph()) as file_writer:\n",
    "        for epoch in range(n_epochs):\n",
    "            for iteration in range(mnist.train.num_examples // batch_size):\n",
    "                X_batch, y_batch = mnist.train.next_batch(batch_size)\n",
    "                sess.run(training_op, feed_dict={X: X_batch, y: y_batch})\n",
    "\n",
    "                train_list = [acc_summary_train, loss_summary_train]\n",
    "                loss_train, acc_train = sess.run(\n",
    "                    train_list, # <-- サマリーをマージした場合は merged_summary を指定\n",
    "                    feed_dict={X: X_batch, y: y_batch})\n",
    "                file_writer.add_summary(loss_train, epoch)\n",
    "                file_writer.add_summary(acc_train, epoch)\n",
    "                \n",
    "#                 result = sess.run(\n",
    "#                     train_list, # <-- サマリーをマージした場合は merged_summary を指定\n",
    "#                     feed_dict={X: X_batch, y: y_batch})\n",
    "#                 for j in range(0,len(result)):\n",
    "#                     file_writer.add_summary(result[j], epoch)\n",
    "\n",
    "            val_list = [acc_summary_val, loss_summary_val]\n",
    "            loss_val, acc_val = sess.run(\n",
    "                val_list, # <-- サマリーをマージした場合は merged_summary を指定\n",
    "                feed_dict={X: mnist.validation.images, y: mnist.validation.labels})\n",
    "            file_writer.add_summary(loss_val, epoch)\n",
    "            file_writer.add_summary(acc_val, epoch)\n",
    "\n",
    "#             print(epoch, \"Train accuracy :\", acc_train, \"Val accuracy :\", acc_val)\n",
    "\n",
    "        save_path = saver.save(sess, \"./logs/dnn/my_model_final.ckpt\")"
   ]
  },
  {
   "cell_type": "code",
   "execution_count": null,
   "metadata": {},
   "outputs": [],
   "source": [
    "# # 予測\n",
    "# with tf.Session() as sess:\n",
    "#     saver.restore(sess, \"./DNN_ckpt/my_model_final.ckpt\")\n",
    "#     X_new_scaled = [...]\n",
    "#     Z = logit.eval(feed_dcit={X: X_new_scaled})\n",
    "#     y_pred = np.argmax(Z, axis=1)"
   ]
  }
 ],
 "metadata": {
  "kernelspec": {
   "display_name": "Python 3",
   "language": "python",
   "name": "python3"
  },
  "language_info": {
   "codemirror_mode": {
    "name": "ipython",
    "version": 3
   },
   "file_extension": ".py",
   "mimetype": "text/x-python",
   "name": "python",
   "nbconvert_exporter": "python",
   "pygments_lexer": "ipython3",
   "version": "3.6.0"
  }
 },
 "nbformat": 4,
 "nbformat_minor": 2
}
