{
 "cells": [
  {
   "cell_type": "code",
   "execution_count": 1,
   "metadata": {},
   "outputs": [],
   "source": [
    "from datetime import datetime\n",
    "import numpy as np\n",
    "import pandas as pd\n",
    "from sklearn.datasets import fetch_california_housing\n",
    "import tensorflow as tf"
   ]
  },
  {
   "cell_type": "markdown",
   "metadata": {},
   "source": [
    "tensorflow は  \n",
    "・グラフの作成 (composed from single node and its relations like theoretical)  \n",
    "・作成したグラフをセッションで実行  \n",
    "の二つのフェーズが必要\n",
    "\n",
    "グラフをセッションで実行するためには、\n",
    "グラフ内の変数を初期化する必要がある。\n",
    "\n",
    "実行はノードで管理されており、欲しい値を持つノードを実行する感じ。"
   ]
  },
  {
   "cell_type": "markdown",
   "metadata": {},
   "source": [
    "### グラフの管理"
   ]
  },
  {
   "cell_type": "code",
   "execution_count": 2,
   "metadata": {},
   "outputs": [
    {
     "data": {
      "text/plain": [
       "True"
      ]
     },
     "execution_count": 2,
     "metadata": {},
     "output_type": "execute_result"
    }
   ],
   "source": [
    "# 作成したノードは自動的にデフォルトグラフに追加される\n",
    "x1 = tf.Variable(1)\n",
    "x1.graph is tf.get_default_graph()"
   ]
  },
  {
   "cell_type": "code",
   "execution_count": 3,
   "metadata": {},
   "outputs": [],
   "source": [
    "tf.reset_default_graph()"
   ]
  },
  {
   "cell_type": "code",
   "execution_count": 5,
   "metadata": {},
   "outputs": [
    {
     "name": "stdout",
     "output_type": "stream",
     "text": [
      "In default block : x2 is default graph? -  True\n",
      "Out default block : x2 is default graph? -  False\n"
     ]
    }
   ],
   "source": [
    "# withブロックで一時的なデフォルトグラフの指定ができる\n",
    "graph = tf.Graph()\n",
    "with graph.as_default():\n",
    "    x2 = tf.Variable(2)\n",
    "    print(\"In default block : x2 is default graph? - \", x2.graph is tf.get_default_graph())\n",
    "print(\"Out default block : x2 is default graph? - \", x2.graph is tf.get_default_graph())"
   ]
  },
  {
   "cell_type": "markdown",
   "metadata": {},
   "source": [
    "### セッションの管理"
   ]
  },
  {
   "cell_type": "code",
   "execution_count": 7,
   "metadata": {},
   "outputs": [
    {
     "name": "stdout",
     "output_type": "stream",
     "text": [
      "1\n"
     ]
    }
   ],
   "source": [
    "x1 = tf.Variable(1)\n",
    "\n",
    "sess = tf.Session()\n",
    "\n",
    "# 変数の初期化\n",
    "# 初期化ノードを実行する\n",
    "sess.run(x1.initializer)\n",
    "# x.initializer.run()\n",
    "\n",
    "# グラフの実行\n",
    "x_res = sess.run(x1)\n",
    "# x_res = x1.eval()\n",
    "\n",
    "sess.close()\n",
    "\n",
    "print(x_res)"
   ]
  },
  {
   "cell_type": "code",
   "execution_count": 8,
   "metadata": {},
   "outputs": [
    {
     "name": "stdout",
     "output_type": "stream",
     "text": [
      "1\n"
     ]
    }
   ],
   "source": [
    "### その他の方法\n",
    "x1 = tf.Variable(1)\n",
    "init = tf.global_variables_initializer()\n",
    "\n",
    "# # セッションはwithブロックでもできる\n",
    "# with tf.Session() as sess:\n",
    "#     sess.run(init)\n",
    "# #     init.run()\n",
    "#     x_res = x1.eval()\n",
    "\n",
    "# シェルなどのインタラクティブコンソールでは InteractiveSession を使用した方が良い\n",
    "sess = tf.InteractiveSession()\n",
    "init.run()\n",
    "x_res = x1.eval()\n",
    "sess.close()\n",
    "print(x_res)"
   ]
  },
  {
   "cell_type": "markdown",
   "metadata": {},
   "source": [
    "### その他の変数の初期化について"
   ]
  },
  {
   "cell_type": "code",
   "execution_count": null,
   "metadata": {},
   "outputs": [],
   "source": [
    "# 1 all_variables are deprecated\n",
    "tf.initialize_all_variables() # == tf.initialize_variables(tf.all_variables())\n",
    "tf.initialize_local_variables() # == tf.initialize_variables(tf.local_variables())\n",
    "\"\"\"\n",
    "initializes variables in GraphKeys.VARIABLES and GraphKeys.LOCAL_VARIABLE collections, respectively.\n",
    "Variables in GraphKeys.LOCAL_VARIABLES collection are variables that are added to the graph, \n",
    "but not saved or restored.\n",
    "\n",
    "tf.Variable() by default adds a new variable to GraphKeys.VARIABLE collection,\n",
    "which can be controlled by collections=[tf.GraphKeys.LOCAL_VARIABLES/VARIABLES] argument.\n",
    "\n",
    "LOCAL_VARIABLES: the subset of Variable objects that are local to each machine.\n",
    "Usually used for temporarily variables, like counters. \n",
    "\n",
    "Note: use tf.contrib.framework.local_variable to add to this collection.\n",
    "\"\"\"\n",
    "\n",
    "# 2 deprecated?\n",
    "init = tf.group(tf.initialize_all_variables(),\n",
    "                   tf.initialize_local_variables())\n",
    "\n",
    "# 3\n",
    "init_global = tf.global_variables_initializer()\n",
    "init_local = tf.local_variables_initializer()"
   ]
  },
  {
   "cell_type": "markdown",
   "metadata": {},
   "source": [
    "### ノードの値のライフサイクル"
   ]
  },
  {
   "cell_type": "code",
   "execution_count": null,
   "metadata": {},
   "outputs": [],
   "source": [
    "w = tf.constant(3)\n",
    "x = w + 2\n",
    "y = y + 5\n",
    "z = x * 3\n",
    "\n",
    "with tf.Session() as sess:\n",
    "    # この方法だと、wとxの計算が2回行われる\n",
    "    # グラフを実行するたびに、ノードの値は捨てられるため。\n",
    "#     print(y.eval())\n",
    "#     print(z.eval())\n",
    "    \n",
    "    # 次のようにすると、wとxの計算は一回だけになる\n",
    "    y_val, z_val = sess.run([y, z])\n",
    "    print(y_val)\n",
    "    print(z_val)"
   ]
  },
  {
   "cell_type": "markdown",
   "metadata": {},
   "source": [
    "### 線形回帰"
   ]
  },
  {
   "cell_type": "code",
   "execution_count": 2,
   "metadata": {},
   "outputs": [
    {
     "name": "stdout",
     "output_type": "stream",
     "text": [
      "20640 8\n",
      "(20640, 9)\n"
     ]
    }
   ],
   "source": [
    "housing = fetch_california_housing()\n",
    "m, n = housing.data.shape\n",
    "print(m, n)\n",
    "housing_data_plus_bias = np.c_[np.ones((m, 1)), housing.data]\n",
    "print(housing_data_plus_bias.shape)"
   ]
  },
  {
   "cell_type": "code",
   "execution_count": 3,
   "metadata": {},
   "outputs": [],
   "source": [
    "data = pd.DataFrame(housing.data)"
   ]
  },
  {
   "cell_type": "code",
   "execution_count": 4,
   "metadata": {},
   "outputs": [
    {
     "data": {
      "text/html": [
       "<div>\n",
       "<style scoped>\n",
       "    .dataframe tbody tr th:only-of-type {\n",
       "        vertical-align: middle;\n",
       "    }\n",
       "\n",
       "    .dataframe tbody tr th {\n",
       "        vertical-align: top;\n",
       "    }\n",
       "\n",
       "    .dataframe thead th {\n",
       "        text-align: right;\n",
       "    }\n",
       "</style>\n",
       "<table border=\"1\" class=\"dataframe\">\n",
       "  <thead>\n",
       "    <tr style=\"text-align: right;\">\n",
       "      <th></th>\n",
       "      <th>0</th>\n",
       "      <th>1</th>\n",
       "      <th>2</th>\n",
       "      <th>3</th>\n",
       "      <th>4</th>\n",
       "      <th>5</th>\n",
       "      <th>6</th>\n",
       "      <th>7</th>\n",
       "    </tr>\n",
       "  </thead>\n",
       "  <tbody>\n",
       "    <tr>\n",
       "      <th>0</th>\n",
       "      <td>8.3252</td>\n",
       "      <td>41.0</td>\n",
       "      <td>6.984127</td>\n",
       "      <td>1.023810</td>\n",
       "      <td>322.0</td>\n",
       "      <td>2.555556</td>\n",
       "      <td>37.88</td>\n",
       "      <td>-122.23</td>\n",
       "    </tr>\n",
       "    <tr>\n",
       "      <th>1</th>\n",
       "      <td>8.3014</td>\n",
       "      <td>21.0</td>\n",
       "      <td>6.238137</td>\n",
       "      <td>0.971880</td>\n",
       "      <td>2401.0</td>\n",
       "      <td>2.109842</td>\n",
       "      <td>37.86</td>\n",
       "      <td>-122.22</td>\n",
       "    </tr>\n",
       "    <tr>\n",
       "      <th>2</th>\n",
       "      <td>7.2574</td>\n",
       "      <td>52.0</td>\n",
       "      <td>8.288136</td>\n",
       "      <td>1.073446</td>\n",
       "      <td>496.0</td>\n",
       "      <td>2.802260</td>\n",
       "      <td>37.85</td>\n",
       "      <td>-122.24</td>\n",
       "    </tr>\n",
       "    <tr>\n",
       "      <th>3</th>\n",
       "      <td>5.6431</td>\n",
       "      <td>52.0</td>\n",
       "      <td>5.817352</td>\n",
       "      <td>1.073059</td>\n",
       "      <td>558.0</td>\n",
       "      <td>2.547945</td>\n",
       "      <td>37.85</td>\n",
       "      <td>-122.25</td>\n",
       "    </tr>\n",
       "    <tr>\n",
       "      <th>4</th>\n",
       "      <td>3.8462</td>\n",
       "      <td>52.0</td>\n",
       "      <td>6.281853</td>\n",
       "      <td>1.081081</td>\n",
       "      <td>565.0</td>\n",
       "      <td>2.181467</td>\n",
       "      <td>37.85</td>\n",
       "      <td>-122.25</td>\n",
       "    </tr>\n",
       "  </tbody>\n",
       "</table>\n",
       "</div>"
      ],
      "text/plain": [
       "        0     1         2         3       4         5      6       7\n",
       "0  8.3252  41.0  6.984127  1.023810   322.0  2.555556  37.88 -122.23\n",
       "1  8.3014  21.0  6.238137  0.971880  2401.0  2.109842  37.86 -122.22\n",
       "2  7.2574  52.0  8.288136  1.073446   496.0  2.802260  37.85 -122.24\n",
       "3  5.6431  52.0  5.817352  1.073059   558.0  2.547945  37.85 -122.25\n",
       "4  3.8462  52.0  6.281853  1.081081   565.0  2.181467  37.85 -122.25"
      ]
     },
     "execution_count": 4,
     "metadata": {},
     "output_type": "execute_result"
    }
   ],
   "source": [
    "data.head()"
   ]
  },
  {
   "cell_type": "code",
   "execution_count": 5,
   "metadata": {},
   "outputs": [
    {
     "data": {
      "text/plain": [
       "0    False\n",
       "1    False\n",
       "2    False\n",
       "3    False\n",
       "4    False\n",
       "5    False\n",
       "6    False\n",
       "7    False\n",
       "dtype: bool"
      ]
     },
     "execution_count": 5,
     "metadata": {},
     "output_type": "execute_result"
    }
   ],
   "source": [
    "data.isnull().all()"
   ]
  },
  {
   "cell_type": "markdown",
   "metadata": {},
   "source": [
    "### 正規方程式"
   ]
  },
  {
   "cell_type": "code",
   "execution_count": 6,
   "metadata": {},
   "outputs": [],
   "source": [
    "X = tf.constant(housing_data_plus_bias, dtype=tf.float32, name=\"X\")\n",
    "y = tf.constant(housing.target.reshape(-1,1), dtype=tf.float32, name=\"y\")\n",
    "XT = tf.transpose(X)\n",
    "theta = tf.matmul(tf.matmul(tf.matrix_inverse(tf.matmul(XT, X)), XT), y)"
   ]
  },
  {
   "cell_type": "code",
   "execution_count": 7,
   "metadata": {},
   "outputs": [],
   "source": [
    "with tf.Session() as sess:\n",
    "    theta_value = theta.eval()"
   ]
  },
  {
   "cell_type": "code",
   "execution_count": 8,
   "metadata": {},
   "outputs": [
    {
     "data": {
      "text/plain": [
       "array([[-3.7185181e+01],\n",
       "       [ 4.3633747e-01],\n",
       "       [ 9.3952334e-03],\n",
       "       [-1.0711310e-01],\n",
       "       [ 6.4479220e-01],\n",
       "       [-4.0338000e-06],\n",
       "       [-3.7813708e-03],\n",
       "       [-4.2348403e-01],\n",
       "       [-4.3721911e-01]], dtype=float32)"
      ]
     },
     "execution_count": 8,
     "metadata": {},
     "output_type": "execute_result"
    }
   ],
   "source": [
    "theta_value"
   ]
  },
  {
   "cell_type": "markdown",
   "metadata": {},
   "source": [
    "### マニュアル勾配計算"
   ]
  },
  {
   "cell_type": "code",
   "execution_count": 9,
   "metadata": {},
   "outputs": [],
   "source": [
    "tf.reset_default_graph()"
   ]
  },
  {
   "cell_type": "code",
   "execution_count": 6,
   "metadata": {},
   "outputs": [],
   "source": [
    "n_epochs = 1000\n",
    "learning_rate = 1e-7"
   ]
  },
  {
   "cell_type": "code",
   "execution_count": 11,
   "metadata": {},
   "outputs": [],
   "source": [
    "theta = tf.Variable(tf.random_uniform([n+1, 1], -1.0, 1.0), name=\"theta\")\n",
    "y_pred = tf.matmul(X, theta, name=\"prediction\")\n",
    "error = y_pred - y\n",
    "mse = tf.reduce_mean(tf.square(error), name=\"mse\")\n",
    "gradients = 2/m * tf.matmul(tf.transpose(X), error)\n",
    "training_op = tf.assign(theta, theta - learning_rate * gradients)"
   ]
  },
  {
   "cell_type": "code",
   "execution_count": 12,
   "metadata": {},
   "outputs": [
    {
     "name": "stdout",
     "output_type": "stream",
     "text": [
      "Epoch =  0  : MSE =  1336150.1\n",
      "Epoch =  100  : MSE =  nan\n",
      "Epoch =  200  : MSE =  nan\n",
      "Epoch =  300  : MSE =  nan\n",
      "Epoch =  400  : MSE =  nan\n",
      "Epoch =  500  : MSE =  nan\n",
      "Epoch =  600  : MSE =  nan\n",
      "Epoch =  700  : MSE =  nan\n",
      "Epoch =  800  : MSE =  nan\n",
      "Epoch =  900  : MSE =  nan\n"
     ]
    }
   ],
   "source": [
    "init = tf.global_variables_initializer()\n",
    "\n",
    "with tf.Session() as sess:\n",
    "    sess.run(init)\n",
    "    \n",
    "    for epoch in range(n_epochs):\n",
    "        if epoch % 100 == 0:\n",
    "            print(\"Epoch = \", epoch, \" : MSE = \", mse.eval())\n",
    "        sess.run(training_op)"
   ]
  },
  {
   "cell_type": "markdown",
   "metadata": {},
   "source": [
    "### 自動微分"
   ]
  },
  {
   "cell_type": "code",
   "execution_count": null,
   "metadata": {},
   "outputs": [],
   "source": [
    "tf.reset_default_graph()"
   ]
  },
  {
   "cell_type": "code",
   "execution_count": 13,
   "metadata": {},
   "outputs": [],
   "source": [
    "theta = tf.Variable(tf.random_uniform([n+1, 1], -1.0, 1.0), name=\"theta\")\n",
    "y_pred = tf.matmul(X, theta, name=\"prediction\")\n",
    "error = y_pred - y\n",
    "mse = tf.reduce_mean(tf.square(error), name=\"mse\")\n",
    "gradients = tf.gradients(mse, [theta])[0]\n",
    "training_op = tf.assign(theta, theta - learning_rate * gradients)"
   ]
  },
  {
   "cell_type": "code",
   "execution_count": 14,
   "metadata": {},
   "outputs": [
    {
     "name": "stdout",
     "output_type": "stream",
     "text": [
      "Epoch =  0  : MSE =  2192306.8\n",
      "Epoch =  100  : MSE =  nan\n",
      "Epoch =  200  : MSE =  nan\n",
      "Epoch =  300  : MSE =  nan\n",
      "Epoch =  400  : MSE =  nan\n",
      "Epoch =  500  : MSE =  nan\n",
      "Epoch =  600  : MSE =  nan\n",
      "Epoch =  700  : MSE =  nan\n",
      "Epoch =  800  : MSE =  nan\n",
      "Epoch =  900  : MSE =  nan\n"
     ]
    }
   ],
   "source": [
    "init = tf.global_variables_initializer()\n",
    "\n",
    "with tf.Session() as sess:\n",
    "    sess.run(init)\n",
    "    grad = gradients.eval()\n",
    "    \n",
    "    for epoch in range(n_epochs):\n",
    "        if epoch % 100 == 0:\n",
    "            print(\"Epoch = \", epoch, \" : MSE = \", mse.eval())\n",
    "        sess.run(training_op)"
   ]
  },
  {
   "cell_type": "markdown",
   "metadata": {},
   "source": [
    "### オプティマイザを使用"
   ]
  },
  {
   "cell_type": "code",
   "execution_count": 15,
   "metadata": {},
   "outputs": [],
   "source": [
    "optimizer = tf.train.GradientDescentOptimizer(learning_rate=learning_rate)\n",
    "# optimizer = tf.train.MomentumOptimizer(learning_rate=learning_rate, momentum=0.9)\n",
    "training_op = optimizer.minimize(mse)"
   ]
  },
  {
   "cell_type": "code",
   "execution_count": 16,
   "metadata": {},
   "outputs": [
    {
     "name": "stdout",
     "output_type": "stream",
     "text": [
      "Epoch =  0  : MSE =  983533.94\n",
      "Epoch =  100  : MSE =  nan\n",
      "Epoch =  200  : MSE =  nan\n",
      "Epoch =  300  : MSE =  nan\n",
      "Epoch =  400  : MSE =  nan\n",
      "Epoch =  500  : MSE =  nan\n",
      "Epoch =  600  : MSE =  nan\n",
      "Epoch =  700  : MSE =  nan\n",
      "Epoch =  800  : MSE =  nan\n",
      "Epoch =  900  : MSE =  nan\n"
     ]
    }
   ],
   "source": [
    "init = tf.global_variables_initializer()\n",
    "\n",
    "with tf.Session() as sess:\n",
    "    sess.run(init)\n",
    "    grad = gradients.eval()\n",
    "    \n",
    "    for epoch in range(n_epochs):\n",
    "        if epoch % 100 == 0:\n",
    "            print(\"Epoch = \", epoch, \" : MSE = \", mse.eval())\n",
    "        sess.run(training_op)"
   ]
  },
  {
   "cell_type": "markdown",
   "metadata": {},
   "source": [
    "### プレースホルダーとミニバッチ学習 (ついでにモデル・変数の保存とグラフ・訓練曲線の可視化)"
   ]
  },
  {
   "cell_type": "code",
   "execution_count": 4,
   "metadata": {},
   "outputs": [],
   "source": [
    "tf.reset_default_graph()"
   ]
  },
  {
   "cell_type": "code",
   "execution_count": 5,
   "metadata": {},
   "outputs": [],
   "source": [
    "n_epochs = 1000\n",
    "learning_rate = 5e-8\n",
    "batch_size = 100\n",
    "n_batches = int(np.ceil(m / batch_size))\n",
    "\n",
    "now = datetime.utcnow().strftime(\"%Y%m%d%H%M%S\")\n",
    "root_logdir = \"tf_logs\"\n",
    "log_dir = \"{}/run-{}/\".format(root_logdir, now)"
   ]
  },
  {
   "cell_type": "code",
   "execution_count": 6,
   "metadata": {},
   "outputs": [],
   "source": [
    "X = tf.placeholder(tf.float32, shape=(None, n+1), name=\"X\")\n",
    "y = tf.placeholder(tf.float32, shape=(None, 1), name=\"y\")\n",
    "\n",
    "theta = tf.Variable(tf.random_uniform([n+1, 1], -1.0, 1.0), name=\"theta\")\n",
    "y_pred = tf.matmul(X, theta, name=\"prediction\")\n",
    "\n",
    "# 名前スコープ\n",
    "with tf.name_scope(\"loss\") as scope:\n",
    "#     error = y_pred - y\n",
    "#     mse = tf.reduce_mean(tf.square(error), name=\"mse\")\n",
    "    mse = tf.reduce_mean(tf.losses.mean_squared_error(y, y_pred), name=\"mse\")\n",
    "    \n",
    "gradients = tf.gradients(mse, [theta])[0]\n",
    "training_op = tf.assign(theta, theta - learning_rate * gradients)"
   ]
  },
  {
   "cell_type": "code",
   "execution_count": 6,
   "metadata": {},
   "outputs": [],
   "source": [
    "def fetch_batch(epoch, batch_index, batch_size):\n",
    "    if batch_size*(batch_index+1) < len(housing_data_plus_bias):\n",
    "        X_batch = housing_data_plus_bias[batch_size*batch_index:batch_size*(batch_index+1)].astype(np.float32)\n",
    "        y_batch = housing.target.reshape(-1,1)[batch_size*batch_index:batch_size*(batch_index+1)].astype(np.float32)\n",
    "    else:\n",
    "        X_batch = housing_data_plus_bias[batch_size*batch_index:].astype(np.float32)\n",
    "        y_batch = housing.target.reshape(-1,1)[batch_size*batch_index:].astype(np.float32)\n",
    "    return X_batch, y_batch"
   ]
  },
  {
   "cell_type": "code",
   "execution_count": 7,
   "metadata": {},
   "outputs": [
    {
     "name": "stdout",
     "output_type": "stream",
     "text": [
      "(40, 9) (40, 1)\n",
      "float32 float32\n"
     ]
    }
   ],
   "source": [
    "X_batch, y_batch = fetch_batch(0, 206, batch_size)\n",
    "print(X_batch.shape, y_batch.shape)\n",
    "print(X_batch.dtype, y_batch.dtype)"
   ]
  },
  {
   "cell_type": "code",
   "execution_count": 8,
   "metadata": {},
   "outputs": [
    {
     "name": "stdout",
     "output_type": "stream",
     "text": [
      "Epoch =  0  : MSE =  112.85476\n",
      "Epoch =  100  : MSE =  43.320763\n",
      "Epoch =  200  : MSE =  26.188023\n",
      "Epoch =  300  : MSE =  15.929834\n",
      "Epoch =  400  : MSE =  9.785694\n",
      "Epoch =  500  : MSE =  6.1036954\n",
      "Epoch =  600  : MSE =  3.8952625\n",
      "Epoch =  700  : MSE =  2.5688667\n",
      "Epoch =  800  : MSE =  1.7705301\n",
      "Epoch =  900  : MSE =  1.2885033\n"
     ]
    }
   ],
   "source": [
    "init = tf.global_variables_initializer()\n",
    "saver = tf.train.Saver()\n",
    "# saver = tf.train.Saver({\"weights\": theta})\n",
    "mse_summary = tf.summary.scalar('MSE', mse)\n",
    "file_writer = tf.summary.FileWriter(log_dir, tf.get_default_graph())\n",
    "\n",
    "with tf.Session() as sess:\n",
    "    sess.run(init)\n",
    "#     grad = gradients.eval()\n",
    "    \n",
    "    for epoch in range(n_epochs):\n",
    "        for batch_index in range(n_batches):\n",
    "            X_batch, y_batch = fetch_batch(epoch, batch_index, batch_size)\n",
    "        \n",
    "            if batch_index % 10 == 0:\n",
    "                summary_str = mse_summary.eval(feed_dict={X: X_batch, y: y_batch})\n",
    "                step = epoch * n_batches + batch_index\n",
    "                file_writer.add_summary(summary_str, step)\n",
    "                \n",
    "            sess.run(training_op, feed_dict={X: X_batch, y: y_batch})\n",
    "            \n",
    "        \n",
    "        if epoch % 100 == 0:\n",
    "            save_path = saver.save(sess, \"./logs/liner_regression/test_model_epoch_{}.ckpt\".format(epoch))\n",
    "            print(\"Epoch = \", epoch, \" : MSE = \", mse.eval(feed_dict={X: X_batch, y: y_batch}))\n",
    "            \n",
    "    save_path = saver.save(sess, \"./logs/liner_regression/test_model_epoch_{}.ckpt\".format(n_epochs))\n",
    "    \n",
    "file_writer.close()"
   ]
  },
  {
   "cell_type": "code",
   "execution_count": 13,
   "metadata": {},
   "outputs": [],
   "source": [
    "# !tensorboard --logdir tf_logs/"
   ]
  },
  {
   "cell_type": "markdown",
   "metadata": {},
   "source": [
    "### 保存したモデルや変数の取り出し"
   ]
  },
  {
   "cell_type": "code",
   "execution_count": 27,
   "metadata": {},
   "outputs": [
    {
     "name": "stdout",
     "output_type": "stream",
     "text": [
      "INFO:tensorflow:Restoring parameters from ./logs/test_model_epoch_1000.ckpt\n"
     ]
    }
   ],
   "source": [
    "saver = tf.train.import_meta_graph(\"./logs/test_model_epoch_1000.ckpt.meta\")\n",
    "\n",
    "with tf.Session() as sess:\n",
    "    saver.restore(sess, \"./logs/test_model_epoch_1000.ckpt\")"
   ]
  },
  {
   "cell_type": "markdown",
   "metadata": {},
   "source": [
    "### モジュール性と変数の共有"
   ]
  },
  {
   "cell_type": "code",
   "execution_count": null,
   "metadata": {},
   "outputs": [],
   "source": [
    "tf.reset_default_graph()"
   ]
  },
  {
   "cell_type": "code",
   "execution_count": 19,
   "metadata": {},
   "outputs": [],
   "source": [
    "# def relu(X):\n",
    "#     w_shape = (int(X.get_shape()[1]), 1)\n",
    "#     w = tf.Variable(tf.random_normal(w_shape), name=\"weights\")\n",
    "#     b = tf.Variable(0.0, name=\"bias\")\n",
    "#     z = tf.add(tf.matmul(X, w), b, name=\"z\")\n",
    "#     return tf.maximum(z, 0., name=\"relu\")"
   ]
  },
  {
   "cell_type": "code",
   "execution_count": 20,
   "metadata": {},
   "outputs": [],
   "source": [
    "# n_features = 3\n",
    "# X = tf.placeholder(tf.float32, shape=(None, n_features), name=\"X\")\n",
    "# # 変数は共有されない\n",
    "# relus = [relu(X) for i in range(5)]\n",
    "# output = tf.add_n(relus, name=\"output\")"
   ]
  },
  {
   "cell_type": "code",
   "execution_count": 21,
   "metadata": {},
   "outputs": [],
   "source": [
    "# 名前スコープによるモジュール化\n",
    "def relu_share_w(X, w):\n",
    "    with tf.name_scope(\"relu\"):\n",
    "        b = tf.Variable(0.0, name=\"bias\")\n",
    "        z = tf.add(tf.matmul(X, w), b, name=\"z\")\n",
    "        return tf.maximum(z, 0., name=\"relu\")"
   ]
  },
  {
   "cell_type": "code",
   "execution_count": 23,
   "metadata": {},
   "outputs": [],
   "source": [
    "X = tf.placeholder(tf.float32, shape=(None, n_features), name=\"X\")\n",
    "# 共有したい変数はconfigなどに設定するといい感じらしい\n",
    "w_shape = (int(X.get_shape()[1]), 1)\n",
    "w = tf.Variable(tf.random_normal(w_shape), name=\"weights\")\n",
    "# 変数wが共有される\n",
    "relus = [relu_share_w(X, w) for i in range(5)]\n",
    "output = tf.add_n(relus, name=\"output\")"
   ]
  },
  {
   "cell_type": "code",
   "execution_count": 26,
   "metadata": {},
   "outputs": [
    {
     "data": {
      "text/plain": [
       "False"
      ]
     },
     "execution_count": 26,
     "metadata": {},
     "output_type": "execute_result"
    }
   ],
   "source": [
    "hasattr(relu, \"w_shape\")"
   ]
  },
  {
   "cell_type": "code",
   "execution_count": 27,
   "metadata": {},
   "outputs": [],
   "source": [
    "def aaa(a):\n",
    "    aaa.abc = 1\n",
    "    return a * aaa.abc"
   ]
  },
  {
   "cell_type": "code",
   "execution_count": 28,
   "metadata": {},
   "outputs": [
    {
     "data": {
      "text/plain": [
       "3"
      ]
     },
     "execution_count": 28,
     "metadata": {},
     "output_type": "execute_result"
    }
   ],
   "source": [
    "aaa(3)"
   ]
  },
  {
   "cell_type": "code",
   "execution_count": 30,
   "metadata": {},
   "outputs": [
    {
     "data": {
      "text/plain": [
       "True"
      ]
     },
     "execution_count": 30,
     "metadata": {},
     "output_type": "execute_result"
    }
   ],
   "source": [
    "hasattr(aaa, \"abc\")"
   ]
  },
  {
   "cell_type": "code",
   "execution_count": null,
   "metadata": {},
   "outputs": [],
   "source": [
    "tf.reset_default_graph()"
   ]
  },
  {
   "cell_type": "code",
   "execution_count": null,
   "metadata": {},
   "outputs": [],
   "source": [
    "# # 共有したい変数を関数の属性に追加してしまおう的な\n",
    "# def relu_with_attr(X):\n",
    "#     with tf.name_scope(\"relu\"):\n",
    "#         if not hasattr(relu_with_attr, \"w\"):\n",
    "#             w_shape = (int(X.get_shape()[1]), 1)\n",
    "#             relu_with_attr.w = tf.Variable(tf.random_normal(w_shape), name=\"weights\")\n",
    "#         b = tf.Variable(0.0, name=\"bias\")\n",
    "#         z = tf.add(tf.matmul(X, w), b, name=\"z\")\n",
    "#         return tf.maximum(z, 0., name=\"max\")\n",
    "    \n",
    "# # RELUクラスを作ってしまえば、変数の共有も楽チン (少し重い)\n",
    "# class RELU():\n",
    "#     __init__(self, X):\n",
    "#         w_shape = (int(X.get_shape()[1]), 1)\n",
    "#         self.w = tf.Variable(tf.random_normal(w_shape), name=\"weigths\")\n",
    "#     ### ....的な感じで"
   ]
  },
  {
   "cell_type": "code",
   "execution_count": null,
   "metadata": {},
   "outputs": [],
   "source": [
    "# tf.reset_default_graph()"
   ]
  },
  {
   "cell_type": "code",
   "execution_count": 10,
   "metadata": {},
   "outputs": [],
   "source": [
    "# 既存の変数があればそちらを使い、なければ新しく変数を作る\n",
    "# # reuse=Trueを指定しないと変数があった場合に例外が発生する\n",
    "# with tf.variable_scope(\"relu\"):\n",
    "    # イニシャライザーがスカラの時はshape=()とする\n",
    "#     threshold = tf.get_variable(\"threshold\", shape=(), initializer=tf.constant_initializer(0.0), dtype=tf.float32)\n",
    "    \n",
    "# reuse=Trueを指定すると、変数が再利用される (形状や初期化の指定をする必要はない。変数がすでにある場合は例外となる。)\n",
    "# with tf.variable_scope(\"relu\", reuse=True) as scope:\n",
    "#     # スコープ内でも、スコープに対してreuseを設定できる\n",
    "# #     scope.reuse_variables()\n",
    "#     w_shape = (int(X.get_shape()[1]), 1)\n",
    "#     # 指定するイニシャライザーがイニシャライズインスタンスではなく定数であるなら、shapeの指定はしない\n",
    "#     w = tf.get_variable(\"weights\", initializer=tf.random_normal(w_shape))\n",
    "#     # reuse=Trueのスコープ内で新たにスコープを作成しても、reuse=Trueのままになる。(スコープの中でFalseにできない)\n",
    "# #     with tf.variable_scope(\"threshold\"):\n",
    "# #         threshold = tf.get_variable(\"threshold_value\")\n",
    "\n",
    "# # reuse=tf.AUTO_REUSEとすると、例外を発生させることなく、既存の変数があればそちらを使い、なければ新しく変数を作る\n",
    "# with tf.variable_scope(\"relu\", reuse=tf.AUTO_REUSE) as scope:\n",
    "#     w_shape = (int(X.get_shape()[1]), 1)\n",
    "#     w = tf.get_variable(\"weights\", initializer=tf.random_normal(w_shape))"
   ]
  },
  {
   "cell_type": "code",
   "execution_count": 12,
   "metadata": {},
   "outputs": [
    {
     "name": "stdout",
     "output_type": "stream",
     "text": [
      "20640 8\n"
     ]
    }
   ],
   "source": [
    "### まとめると、、、\n",
    "housing = fetch_california_housing()\n",
    "m, n = housing.data.shape\n",
    "housing_data_plus_bias = np.c_[np.ones((m, 1)), housing.data]\n",
    "n_features = n + 1\n",
    "\n",
    "tf.reset_default_graph()\n",
    "\n",
    "now = datetime.utcnow().strftime(\"%Y%m%d%H%M%S\")\n",
    "root_logdir = \"tf_logs\"\n",
    "log_dir = \"{}/run-{}/\".format(root_logdir, now)\n",
    "\n",
    "# X_input = tf.constant(housing_data_plus_bias, dtype=tf.float32, name=\"X_input\")\n",
    "\n",
    "def relu(X):\n",
    "    with tf.variable_scope(\"relu\", reuse=tf.AUTO_REUSE):\n",
    "        w_shape = (int(X.get_shape()[1]), 1)\n",
    "        w = tf.get_variable(\"weights\", initializer=tf.random_normal(w_shape))\n",
    "        b = tf.Variable(0.0, name=\"bias\")\n",
    "        z = tf.add(tf.matmul(X, w), b, name=\"z\")\n",
    "        return tf.maximum(z, 0., name=\"max\")\n",
    "\n",
    "with tf.Graph().as_default() as graph:\n",
    "    # グラフの定義スコープ\n",
    "    X = tf.placeholder(tf.float32, shape=(None, n_features), name=\"X\")\n",
    "    relus = []\n",
    "    for relu_index in range(5):\n",
    "        relus.append(relu(X))\n",
    "    output = tf.reduce_mean(tf.add_n(relus, name=\"output\"))\n",
    "\n",
    "    init = tf.global_variables_initializer()\n",
    "    output_summary = tf.summary.scalar('res', output)\n",
    "    \n",
    "    with tf.summary.FileWriter(log_dir, graph) as file_writer:\n",
    "        # サマリーの保存スコープ\n",
    "        with tf.Session() as sess:\n",
    "            # セッションの実行スコープ\n",
    "            sess.run(init)\n",
    "            summary_str = output_summary.eval(feed_dict={X: housing_data_plus_bias})\n",
    "            file_writer.add_summary(summary_str, 0)"
   ]
  },
  {
   "cell_type": "code",
   "execution_count": null,
   "metadata": {},
   "outputs": [],
   "source": []
  }
 ],
 "metadata": {
  "kernelspec": {
   "display_name": "Python 3",
   "language": "python",
   "name": "python3"
  },
  "language_info": {
   "codemirror_mode": {
    "name": "ipython",
    "version": 3
   },
   "file_extension": ".py",
   "mimetype": "text/x-python",
   "name": "python",
   "nbconvert_exporter": "python",
   "pygments_lexer": "ipython3",
   "version": "3.6.0"
  }
 },
 "nbformat": 4,
 "nbformat_minor": 2
}
