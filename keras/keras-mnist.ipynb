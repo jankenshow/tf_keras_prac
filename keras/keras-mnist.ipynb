{
 "cells": [
  {
   "cell_type": "code",
   "execution_count": 1,
   "metadata": {},
   "outputs": [
    {
     "name": "stderr",
     "output_type": "stream",
     "text": [
      "Using TensorFlow backend.\n"
     ]
    }
   ],
   "source": [
    "import numpy as np\n",
    "import tensorflow as tf\n",
    "from keras.datasets import mnist"
   ]
  },
  {
   "cell_type": "code",
   "execution_count": 2,
   "metadata": {},
   "outputs": [
    {
     "name": "stdout",
     "output_type": "stream",
     "text": [
      "Downloading data from https://s3.amazonaws.com/img-datasets/mnist.npz\n",
      "11354112/11490434 [============================>.] - ETA: 0s"
     ]
    }
   ],
   "source": [
    "(x_train, y_train), (x_test, y_test) = mnist.load_data()"
   ]
  },
  {
   "cell_type": "code",
   "execution_count": 3,
   "metadata": {},
   "outputs": [
    {
     "name": "stdout",
     "output_type": "stream",
     "text": [
      "x_train : (60000, 28, 28)\n",
      " y_train : (60000,)\n",
      " x_test : (10000, 28, 28)\n",
      " y_test : (10000,)\n"
     ]
    }
   ],
   "source": [
    "print(\"x_train : {}\\n y_train : {}\\n x_test : {}\\n y_test : {}\".format(x_train.shape, y_train.shape, x_test.shape, y_test.shape))"
   ]
  },
  {
   "cell_type": "code",
   "execution_count": 7,
   "metadata": {},
   "outputs": [
    {
     "data": {
      "text/plain": [
       "array([5, 0, 4, 1, 9], dtype=uint8)"
      ]
     },
     "execution_count": 7,
     "metadata": {},
     "output_type": "execute_result"
    }
   ],
   "source": [
    "y_train[0:5]"
   ]
  },
  {
   "cell_type": "code",
   "execution_count": 8,
   "metadata": {},
   "outputs": [],
   "source": [
    "from keras.utils.np_utils import to_categorical\n",
    "\n",
    "# 画像を1次元化\n",
    "x_train = x_train.reshape(60000, 784)\n",
    "x_test = x_test.reshape(10000, 784)\n",
    "\n",
    "# 画素を0~1の範囲に変換(正規化)\n",
    "x_train = x_train.astype('float32') / 255\n",
    "x_test = x_test.astype('float32') / 255\n",
    "\n",
    "# 正解ラベルをone-hot-encoding\n",
    "y_train = to_categorical(y_train, 10)\n",
    "y_test = to_categorical(y_test, 10)"
   ]
  },
  {
   "cell_type": "code",
   "execution_count": 9,
   "metadata": {},
   "outputs": [],
   "source": [
    "from keras.models import Sequential\n",
    "from keras.layers import Dense\n",
    "\n",
    "model = Sequential()\n",
    "model.add(Dense(64, activation='relu', input_dim=784))\n",
    "model.add(Dense(10, activation='softmax'))\n",
    "\n",
    "model.compile(optimizer='rmsprop',\n",
    "              loss='categorical_crossentropy',\n",
    "              metrics=['accuracy'])"
   ]
  },
  {
   "cell_type": "code",
   "execution_count": 10,
   "metadata": {},
   "outputs": [
    {
     "name": "stdout",
     "output_type": "stream",
     "text": [
      "Epoch 1/12\n",
      "60000/60000 [==============================] - 1s - loss: 0.3726 - acc: 0.8974     \n",
      "Epoch 2/12\n",
      "60000/60000 [==============================] - 1s - loss: 0.1919 - acc: 0.9446     \n",
      "Epoch 3/12\n",
      "60000/60000 [==============================] - 1s - loss: 0.1446 - acc: 0.9586     \n",
      "Epoch 4/12\n",
      "60000/60000 [==============================] - 1s - loss: 0.1174 - acc: 0.9659     \n",
      "Epoch 5/12\n",
      "60000/60000 [==============================] - 1s - loss: 0.0998 - acc: 0.9709     \n",
      "Epoch 6/12\n",
      "60000/60000 [==============================] - 1s - loss: 0.0861 - acc: 0.9751     \n",
      "Epoch 7/12\n",
      "60000/60000 [==============================] - 1s - loss: 0.0758 - acc: 0.9777     \n",
      "Epoch 8/12\n",
      "60000/60000 [==============================] - 1s - loss: 0.0674 - acc: 0.9799     \n",
      "Epoch 9/12\n",
      "60000/60000 [==============================] - 1s - loss: 0.0608 - acc: 0.9819     - ETA: 0s - loss: 0.0619 - acc: 0.\n",
      "Epoch 10/12\n",
      "60000/60000 [==============================] - 1s - loss: 0.0556 - acc: 0.9834     \n",
      "Epoch 11/12\n",
      "60000/60000 [==============================] - 1s - loss: 0.0500 - acc: 0.9852     \n",
      "Epoch 12/12\n",
      "60000/60000 [==============================] - 1s - loss: 0.0463 - acc: 0.9867     \n"
     ]
    },
    {
     "data": {
      "text/plain": [
       "<keras.callbacks.History at 0x128a50f28>"
      ]
     },
     "execution_count": 10,
     "metadata": {},
     "output_type": "execute_result"
    }
   ],
   "source": [
    "model.fit(x_train, y_train,\n",
    "            batch_size=100,\n",
    "            epochs=12,\n",
    "            verbose=1)"
   ]
  },
  {
   "cell_type": "code",
   "execution_count": 11,
   "metadata": {},
   "outputs": [
    {
     "name": "stdout",
     "output_type": "stream",
     "text": [
      " 9472/10000 [===========================>..] - ETA: 0s0.0887994185494259\n",
      "0.9753\n"
     ]
    }
   ],
   "source": [
    "score = model.evaluate(x_test, y_test)\n",
    "print(score[0])\n",
    "print(score[1])"
   ]
  },
  {
   "cell_type": "code",
   "execution_count": 12,
   "metadata": {},
   "outputs": [
    {
     "data": {
      "text/plain": [
       "[0.0887994185494259, 0.9753]"
      ]
     },
     "execution_count": 12,
     "metadata": {},
     "output_type": "execute_result"
    }
   ],
   "source": [
    "score"
   ]
  },
  {
   "cell_type": "code",
   "execution_count": null,
   "metadata": {},
   "outputs": [],
   "source": []
  }
 ],
 "metadata": {
  "kernelspec": {
   "display_name": "Python 3",
   "language": "python",
   "name": "python3"
  },
  "language_info": {
   "codemirror_mode": {
    "name": "ipython",
    "version": 3
   },
   "file_extension": ".py",
   "mimetype": "text/x-python",
   "name": "python",
   "nbconvert_exporter": "python",
   "pygments_lexer": "ipython3",
   "version": "3.6.0"
  }
 },
 "nbformat": 4,
 "nbformat_minor": 2
}
