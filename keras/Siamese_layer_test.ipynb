{
 "cells": [
  {
   "cell_type": "code",
   "execution_count": 1,
   "metadata": {},
   "outputs": [
    {
     "name": "stderr",
     "output_type": "stream",
     "text": [
      "Using TensorFlow backend.\n",
      "/home/suzuki/.pyenv/versions/3.6.0/lib/python3.6/importlib/_bootstrap.py:205: RuntimeWarning: compiletime version 3.5 of module 'tensorflow.python.framework.fast_tensor_util' does not match runtime version 3.6\n",
      "  return f(*args, **kwds)\n"
     ]
    },
    {
     "name": "stdout",
     "output_type": "stream",
     "text": [
      "image_dim_ordering:tf\n"
     ]
    }
   ],
   "source": [
    "import sys, os\n",
    "from pathlib import Path\n",
    "import json\n",
    "import time\n",
    "import random\n",
    "import numpy as np\n",
    "import cv2\n",
    "import matplotlib.pyplot as plt\n",
    "\n",
    "BASE_DIR = os.path.abspath(Path().resolve())\n",
    "sys.path.append(os.path.join(BASE_DIR, \"../\"))\n",
    "from ToppanUtils import *\n",
    "from SiameseNet import *\n",
    "import TemplateMatching as tm\n",
    "from prefetch_generator import BackgroundGenerator\n",
    "from keras import optimizers"
   ]
  },
  {
   "cell_type": "code",
   "execution_count": 7,
   "metadata": {},
   "outputs": [
    {
     "data": {
      "text/plain": [
       "'2.0.8'"
      ]
     },
     "execution_count": 7,
     "metadata": {},
     "output_type": "execute_result"
    }
   ],
   "source": [
    "import keras\n",
    "keras.__version__"
   ]
  },
  {
   "cell_type": "code",
   "execution_count": 8,
   "metadata": {},
   "outputs": [
    {
     "data": {
      "text/plain": [
       "'1.4.0'"
      ]
     },
     "execution_count": 8,
     "metadata": {},
     "output_type": "execute_result"
    }
   ],
   "source": [
    "import tensorflow as tf\n",
    "tf.__version__"
   ]
  },
  {
   "cell_type": "markdown",
   "metadata": {},
   "source": [
    "### メダルデータ準備"
   ]
  },
  {
   "cell_type": "code",
   "execution_count": 10,
   "metadata": {},
   "outputs": [
    {
     "ename": "FileNotFoundError",
     "evalue": "[Errno 2] No such file or directory: '/data_server_storage/clients/kagadenshi/2019.06.05 メダル画像データ(検討用)/TAMATAMA/'",
     "output_type": "error",
     "traceback": [
      "\u001b[0;31m---------------------------------------------------------------------------\u001b[0m",
      "\u001b[0;31mFileNotFoundError\u001b[0m                         Traceback (most recent call last)",
      "\u001b[0;32m<ipython-input-10-6b80095aef2c>\u001b[0m in \u001b[0;36m<module>\u001b[0;34m()\u001b[0m\n\u001b[1;32m      4\u001b[0m \u001b[0;34m\u001b[0m\u001b[0m\n\u001b[1;32m      5\u001b[0m imageAs = [\n\u001b[0;32m----> 6\u001b[0;31m     \u001b[0mcv2\u001b[0m\u001b[0;34m.\u001b[0m\u001b[0mimread\u001b[0m\u001b[0;34m(\u001b[0m\u001b[0mimageAs_path\u001b[0m \u001b[0;34m+\u001b[0m \u001b[0mimg_name\u001b[0m\u001b[0;34m)\u001b[0m \u001b[0;32mfor\u001b[0m \u001b[0mimg_name\u001b[0m \u001b[0;32min\u001b[0m \u001b[0mos\u001b[0m\u001b[0;34m.\u001b[0m\u001b[0mlistdir\u001b[0m\u001b[0;34m(\u001b[0m\u001b[0mimageAs_path\u001b[0m\u001b[0;34m)\u001b[0m\u001b[0;34m\u001b[0m\u001b[0m\n\u001b[0m\u001b[1;32m      7\u001b[0m     \u001b[0;32mif\u001b[0m \u001b[0mimg_name\u001b[0m \u001b[0;34m!=\u001b[0m \u001b[0;34m\"Thumbs.db\"\u001b[0m\u001b[0;34m\u001b[0m\u001b[0m\n\u001b[1;32m      8\u001b[0m ]\n",
      "\u001b[0;31mFileNotFoundError\u001b[0m: [Errno 2] No such file or directory: '/data_server_storage/clients/kagadenshi/2019.06.05 メダル画像データ(検討用)/TAMATAMA/'"
     ]
    }
   ],
   "source": [
    "### データが読み込めないーーーーーうわぁああああーーーーーっっっっっっ\n",
    "data_base_path = \"/data_server_storage/clients/kagadenshi/2019.06.05 メダル画像データ(検討用)/TAMA\"\n",
    "imageAs_path = data_base_path + \"TAMA/\"\n",
    "imageBs_path = data_base_path + \"MARU-1/\"\n",
    "\n",
    "imageAs = [\n",
    "    cv2.imread(imageAs_path + img_name) for img_name in os.listdir(imageAs_path)\n",
    "    if img_name != \"Thumbs.db\"\n",
    "]\n",
    "imageBs = [\n",
    "    cv2.imread(imageBs_path + img_name) for img_name in os.listdir(imageBs_path)\n",
    "    if img_name != \"Thumbs.db\"\n",
    "]"
   ]
  },
  {
   "cell_type": "markdown",
   "metadata": {},
   "source": [
    "### モデル準備"
   ]
  },
  {
   "cell_type": "code",
   "execution_count": 2,
   "metadata": {},
   "outputs": [],
   "source": [
    "os.environ[\"CUDA_VISIBLE_DEVICES\"] = \"0\"\n",
    "\n",
    "SIZE = 128\n",
    "CHANNELS = 4\n",
    "SEED = 1\n",
    "LR = 1e-5\n",
    "BATCH_SIZE = 128\n",
    "EPOCHS = 300"
   ]
  },
  {
   "cell_type": "code",
   "execution_count": 3,
   "metadata": {},
   "outputs": [],
   "source": [
    "### これを何回も実行してしまうと、レイヤーの名前が変わって、部分的なモデルの取り出しがうまくできなくなるかも。。\n",
    "### モデルの定義の時に、すべてのレイヤーで name 指定をするべき。。\n",
    "# adam = optimizers.Adam(lr=1e-4)\n",
    "model = get_net(SIZE, CHANNELS)"
   ]
  },
  {
   "cell_type": "code",
   "execution_count": 4,
   "metadata": {},
   "outputs": [
    {
     "name": "stdout",
     "output_type": "stream",
     "text": [
      "____________________________________________________________________________________________________\n",
      "Layer (type)                     Output Shape          Param #     Connected to                     \n",
      "====================================================================================================\n",
      "A (InputLayer)                   (None, 128, 128, 4)   0                                            \n",
      "____________________________________________________________________________________________________\n",
      "B (InputLayer)                   (None, 128, 128, 4)   0                                            \n",
      "____________________________________________________________________________________________________\n",
      "model_1 (Model)                  (None, 16, 16, 192)   195216      A[0][0]                          \n",
      "                                                                   B[0][0]                          \n",
      "____________________________________________________________________________________________________\n",
      "model_2 (Model)                  (None, 1)             6259969     model_1[1][0]                    \n",
      "                                                                   model_1[2][0]                    \n",
      "====================================================================================================\n",
      "Total params: 6,455,185\n",
      "Trainable params: 6,451,313\n",
      "Non-trainable params: 3,872\n",
      "____________________________________________________________________________________________________\n"
     ]
    }
   ],
   "source": [
    "model.summary()"
   ]
  },
  {
   "cell_type": "code",
   "execution_count": 5,
   "metadata": {},
   "outputs": [],
   "source": [
    "from keras.utils.vis_utils import plot_model\n",
    "plot_model(model, show_shapes=True)"
   ]
  },
  {
   "cell_type": "code",
   "execution_count": null,
   "metadata": {},
   "outputs": [],
   "source": [
    "### 部分的なモデルの取り出しとその出力を行うための関数　,,, だめぽ\n",
    "# def get_layers(iunput_layer_name, output_layer_name, inputs):\n",
    "#     layers = Model(inputs=model.get_layer(input_layer_name).input, outputs=model.get_layer(output_layer_name).output)\n",
    "#     res = layers.predict(inputs)\n",
    "#     return res"
   ]
  },
  {
   "cell_type": "markdown",
   "metadata": {},
   "source": [
    "### メダルの登録"
   ]
  },
  {
   "cell_type": "code",
   "execution_count": 7,
   "metadata": {},
   "outputs": [],
   "source": [
    "from keras.models import Model\n",
    "\n",
    "### モデルの特徴量抽出部分を取り出す\n",
    "input_layer_name = \"A\"\n",
    "output_layer_name = \"model_1\"\n",
    "\n",
    "# feature_extract_model = Model(inputs=model.input, outputs=model.get_layer(layer_name).output)　-> できない\n",
    "# feature_extract_model = Model(inputs=model.get_layer(\"A\").input, outputs=model.get_layer(layer_name).output) -> できない\n",
    "\n",
    "feature_extract_model = Model(inputs=model.get_layer(input_layer_name).input, outputs=model.get_layer(output_layer_name).get_output_at(1))"
   ]
  },
  {
   "cell_type": "code",
   "execution_count": null,
   "metadata": {},
   "outputs": [],
   "source": [
    "### 取り出した特徴量抽出モデルで、登録したいメダルデータの特徴量抽出\n",
    "feature_map_As = feature_extract_model.predict(image_As)"
   ]
  },
  {
   "cell_type": "code",
   "execution_count": null,
   "metadata": {},
   "outputs": [],
   "source": [
    "### 登録したいメダルデータの特徴量を保存\n",
    "# np.save(\"~.npz\", feature_map_As) 適当"
   ]
  },
  {
   "cell_type": "markdown",
   "metadata": {},
   "source": [
    "### 検査対象のメダルデータの特徴量抽出ならびに、その特徴量と登録したメダルの特徴量との距離を計算"
   ]
  },
  {
   "cell_type": "code",
   "execution_count": null,
   "metadata": {},
   "outputs": [],
   "source": [
    "# model = load_model() 適当"
   ]
  },
  {
   "cell_type": "code",
   "execution_count": 15,
   "metadata": {},
   "outputs": [],
   "source": [
    "# help(model)\n",
    "# for i, layer in enumerate(model.layers):\n",
    "#     if i == 0:\n",
    "#         help(layer)\n",
    "#     layer.set_weights(weights[i])"
   ]
  },
  {
   "cell_type": "code",
   "execution_count": 16,
   "metadata": {},
   "outputs": [],
   "source": [
    "### モデルの特徴量抽出部分を取り出す\n",
    "input_layer_name = \"A\" # B - 0だと上手くいかない\n",
    "output_layer_name = \"model_1\"\n",
    "\n",
    "feature_extract_model = Model(inputs=model.get_layer(input_layer_name).input, outputs=model.get_layer(output_layer_name).get_output_at(1))\n",
    "# feature_map_Bs = feature_extract_model.predict(image_Bs)\n",
    "\n",
    "### モデルの距離計算部分\n",
    "# というか、モデルを２つに分割して１つのモデルとして上手く学習させることはできるのか、わからない。\n",
    "distance_model = get_distance_model(size=SIZE)\n",
    "\n",
    "# この時に学習した重みをどうにかして読み込まないといけないので、微妙？\n",
    "layer_name = \"model_2\"\n",
    "distance_model.set_weights(model.get_layer(layer_name).get_weights())\n",
    "\n",
    "\n",
    "# 以下だめぽ　距離計算モデルを組み直して(インプットのプレースホルダーが無いとエラーになる)\n",
    "# 距離計算部分を切り出して、１つのモデルとして利用\n",
    "# その距離計算部分に対して、学習した重みを利用する方法へ変更してどうなるか\n",
    "\n",
    "# ### 距離計算を２つに分けているが、ひとつでできる方がいいと思われる、、\n",
    "# ### ２つの特徴量の距離計算 1\n",
    "# input_layer_name = \"subtract_1\"\n",
    "# output_layer_name = \"max_pooling2d_4\"\n",
    "\n",
    "# midout_model_A = Model(inputs=model.get_layer(input_layer_name).input, outputs=model.get_layer(output_layer_name).output)\n",
    "# # midout_As = midout_model_A.predict([feature_map_As, feature_map_Bs])\n",
    "\n",
    "# input_layer_name = \"subtract_2\"\n",
    "# output_layer_name = \"max_pooling2d_5\"\n",
    "\n",
    "# midout_model_B = Model(inputs=model.get_layer(input_layer_name).input, outputs=model.get_layer(output_layer_name).output)\n",
    "# # midout_Bs = midout_model_B.predict([feature_map_Bs, feature_map_As])\n",
    "\n",
    "# ### ２つの特徴量の距離計算 2\n",
    "# input_layer_name = \"concatenate_2\"\n",
    "# output_layer_name = \"dense_1\"\n",
    "\n",
    "# distance_model = Model(inputs=model.get_layer(input_layer_name).input, outputs=model.get_layer(output_layer_name).output)\n",
    "# # res = distance_model.predict([midout_Bs, midout_As])"
   ]
  },
  {
   "cell_type": "code",
   "execution_count": null,
   "metadata": {},
   "outputs": [],
   "source": [
    "### 登録したメダルデータの特徴量を読み込む\n",
    "# feature_map_As = np.load(\"~.npz\")　適当"
   ]
  },
  {
   "cell_type": "code",
   "execution_count": null,
   "metadata": {},
   "outputs": [],
   "source": [
    "### 取り出したモデルたちでメダルデータの距離計算まで\n",
    "feature_map_Bs = feature_extract_model.predict(image_Bs)\n",
    "res = distance_model.predict([feature_map_As, feature_map_Bs])\n",
    "\n",
    "\n",
    "# 以下は距離計算を２つに分けていた時のレガシー\n",
    "\n",
    "# midout_As = midout_model_A.predict([feature_map_As, feature_map_Bs])\n",
    "# midout_Bs = midout_model_B.predict([feature_map_Bs, feature_map_As])\n",
    "\n",
    "# res = distance_model.predict([midout_Bs, midout_As])"
   ]
  },
  {
   "cell_type": "markdown",
   "metadata": {},
   "source": [
    "### その他テスト"
   ]
  },
  {
   "cell_type": "code",
   "execution_count": 1,
   "metadata": {},
   "outputs": [
    {
     "name": "stderr",
     "output_type": "stream",
     "text": [
      "Using TensorFlow backend.\n",
      "/home/suzuki/.pyenv/versions/3.6.0/lib/python3.6/importlib/_bootstrap.py:205: RuntimeWarning: compiletime version 3.5 of module 'tensorflow.python.framework.fast_tensor_util' does not match runtime version 3.6\n",
      "  return f(*args, **kwds)\n"
     ]
    }
   ],
   "source": [
    "import keras\n",
    "\n",
    "input1 = keras.layers.Input(shape=(5,))\n",
    "# x1 = keras.layers.Dense(8, activation='relu')(input1)\n",
    "input2 = keras.layers.Input(shape=(5,))\n",
    "# x2 = keras.layers.Dense(8, activation='relu')(input2)\n",
    "added = keras.layers.add([input1, input2])\n",
    "# added = keras.layers.add([x1, x2])\n",
    "\n",
    "# out = keras.layers.Dense(4)(added)\n",
    "model = keras.models.Model(inputs=[input1, input2], outputs=added)\n",
    "\n",
    "import numpy as np\n",
    "a = np.array([[1,2,3,4,5]])\n",
    "b = np.array([[2,3,4,5,6]])\n",
    "pred = model.predict([a,b])\n",
    "\n",
    "pred"
   ]
  },
  {
   "cell_type": "code",
   "execution_count": null,
   "metadata": {},
   "outputs": [],
   "source": []
  }
 ],
 "metadata": {
  "kernelspec": {
   "display_name": "Python 3",
   "language": "python",
   "name": "python3"
  },
  "language_info": {
   "codemirror_mode": {
    "name": "ipython",
    "version": 3
   },
   "file_extension": ".py",
   "mimetype": "text/x-python",
   "name": "python",
   "nbconvert_exporter": "python",
   "pygments_lexer": "ipython3",
   "version": "3.6.0"
  }
 },
 "nbformat": 4,
 "nbformat_minor": 2
}
