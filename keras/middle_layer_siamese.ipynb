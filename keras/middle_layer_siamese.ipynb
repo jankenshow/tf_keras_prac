{
 "cells": [
  {
   "cell_type": "markdown",
   "metadata": {},
   "source": [
    "### 目的\n",
    "\n",
    "検査対象のメダルが登録したメダル数種類と同種か判定するモデルの作成と予測を行う  \n",
    "どれか１つと同一物であれば　OK  \n",
    "どのメダルとも同種では無い　NG  \n",
    "的なね  \n",
    "\n",
    "### 方法\n",
    "\n",
    "・SiameseNetを、特徴量抽出部分と距離計算部分とに分けて実装  \n",
    "・店舗で使用するメダルの登録フェーズを追加  \n",
    "・登録フェーズでは登録メダルの特徴量を保存  \n",
    "・予測の時に、検査対象のメダルの特徴量抽出ならびに、この特徴量と保存されていた登録メダルの特徴量との距離を計算  \n",
    "・最終的に、登録メダルのどれか１つと同種であると判定されればOKとする  \n",
    "・具体的な流れは下記参照  \n",
    "\n",
    "### 課題\n",
    "・モデルを２つに分割して１つのモデルとして上手く学習させることはできるのか  \n",
    "・予測時間は早くなるのか  \n",
    "・予測の時に２つのモデルを使用しているので、１つのモデルとして書き換える必要がある  \n",
    "(入力の１つは画像、もう１つは画像から取り出した特徴量で、出力は同一 or 非同一　のモデルを作る的な)  \n",
    "・モデルの定義の時に、すべてのレイヤーで name 指定をするべき。。  "
   ]
  },
  {
   "cell_type": "code",
   "execution_count": null,
   "metadata": {},
   "outputs": [],
   "source": [
    "import sys, os\n",
    "from pathlib import Path\n",
    "import json\n",
    "import time\n",
    "import random\n",
    "import numpy as np\n",
    "import cv2\n",
    "import matplotlib.pyplot as plt\n",
    "\n",
    "BASE_DIR = os.path.abspath(Path().resolve())\n",
    "sys.path.append(os.path.join(BASE_DIR, \"../\"))\n",
    "import TemplateMatching as tm\n",
    "from prefetch_generator import BackgroundGenerator\n",
    "\n",
    "import tensorflow as tf\n",
    "import keras\n",
    "import keras.backend as K\n",
    "from keras.models import Model\n",
    "from keras import optimizers\n",
    "from ToppanUtils import *\n",
    "from SiameseNet import *"
   ]
  },
  {
   "cell_type": "code",
   "execution_count": null,
   "metadata": {},
   "outputs": [],
   "source": [
    "tf.__version__, keras.__version__"
   ]
  },
  {
   "cell_type": "markdown",
   "metadata": {},
   "source": [
    "### メダルデータ準備"
   ]
  },
  {
   "cell_type": "code",
   "execution_count": null,
   "metadata": {},
   "outputs": [],
   "source": [
    "### データが読み込めないーーーーーうわぁああああーーーーーっっっっっっ\n",
    "data_base_path = \"/data_server_storage/clients/kagadenshi/2019.06.05 メダル画像データ(検討用)/TAMA\"\n",
    "imageAs_path = data_base_path + \"TAMA/\"\n",
    "imageBs_path = data_base_path + \"MARU-1/\"\n",
    "\n",
    "imageAs = [\n",
    "    cv2.imread(imageAs_path + img_name) for img_name in os.listdir(imageAs_path)\n",
    "    if img_name != \"Thumbs.db\"\n",
    "]\n",
    "imageBs = [\n",
    "    cv2.imread(imageBs_path + img_name) for img_name in os.listdir(imageBs_path)\n",
    "    if img_name != \"Thumbs.db\"\n",
    "]\n",
    "\n",
    "labels = ~"
   ]
  },
  {
   "cell_type": "markdown",
   "metadata": {},
   "source": [
    "### モデル読み込み for 学習"
   ]
  },
  {
   "cell_type": "code",
   "execution_count": null,
   "metadata": {},
   "outputs": [],
   "source": [
    "### 各種パラメータなどの設定\n",
    "os.environ[\"CUDA_VISIBLE_DEVICES\"] = \"0\"\n",
    "\n",
    "SIZE = 128\n",
    "CHANNELS = 4\n",
    "SEED = 1\n",
    "LR = 1e-5\n",
    "BATCH_SIZE = 128\n",
    "EPOCHS = 300"
   ]
  },
  {
   "cell_type": "code",
   "execution_count": null,
   "metadata": {},
   "outputs": [],
   "source": [
    "### モデルの読み込み\n",
    "# これを何回も実行してしまうと、レイヤーの名前が変わって、部分的なモデルの取り出しがうまくできなくなるかも。。\n",
    "# したがって、モデルの定義の時にすべてのレイヤーで name 引数の指定をするべき。。\n",
    "# adam = optimizers.Adam(lr=1e-4)\n",
    "model = get_net(SIZE, CHANNELS) #, adam)"
   ]
  },
  {
   "cell_type": "code",
   "execution_count": null,
   "metadata": {},
   "outputs": [],
   "source": [
    "### モデルの学習と重みの保存\n",
    "model.train([imgeAs, imgeBs], labels)\n",
    "model.save(\"~.h5\") # モデルの保存先を各々変更"
   ]
  },
  {
   "cell_type": "markdown",
   "metadata": {},
   "source": [
    "### メダルの登録"
   ]
  },
  {
   "cell_type": "code",
   "execution_count": null,
   "metadata": {},
   "outputs": [],
   "source": [
    "### モデルの特徴量抽出部分を取り出す\n",
    "input_layer_name = \"A\"\n",
    "output_layer_name = \"model_1\"\n",
    "\n",
    "feature_extract_model = Model(\n",
    "    inputs=model.get_layer(input_layer_name).input, \n",
    "    outputs=model.get_layer(output_layer_name).get_output_at(1)\n",
    ")\n",
    "\n",
    "\n",
    "### 取り出した特徴量抽出モデルで、登録したいメダルデータの特徴量抽出\n",
    "feature_map_As = feature_extract_model.predict(image_As)"
   ]
  },
  {
   "cell_type": "code",
   "execution_count": null,
   "metadata": {},
   "outputs": [],
   "source": [
    "### 登録したいメダルデータの読み込み\n",
    "imageAs = [\n",
    "    # 画像を読み込む関数のリスト内包表記したかった。。\n",
    "]\n",
    "\n",
    "\n",
    "### 登録したいメダルデータの特徴量を保存\n",
    "np.save(\"~.npz\", feature_map_As) # 適当なんでちゃんと調べて実装しないとヤバイ"
   ]
  },
  {
   "cell_type": "markdown",
   "metadata": {},
   "source": [
    "### 検査対象のメダルデータの特徴量抽出ならびに、その特徴量と登録したメダルの特徴量との距離を計算"
   ]
  },
  {
   "cell_type": "code",
   "execution_count": null,
   "metadata": {},
   "outputs": [],
   "source": [
    "### モデルの読み込み\n",
    "model = load_model() # 適当\n",
    "\n",
    "\n",
    "### モデルの特徴量抽出部分\n",
    "input_layer_name = \"A\" # B - model_0だと上手くいかない\n",
    "output_layer_name = \"model_1\"\n",
    "\n",
    "feature_extract_model = Model(\n",
    "    inputs=model.get_layer(input_layer_name).input, \n",
    "    outputs=model.get_layer(output_layer_name).get_output_at(1)\n",
    ")\n",
    "\n",
    "\n",
    "### モデルの距離計算部分\n",
    "distance_model = get_distance_model(size=SIZE) d\n",
    "\n",
    "# ここで学習した重みを再度読み込まないといけないので、微妙？\n",
    "layer_name = \"model_2\"\n",
    "distance_model.set_weights(model.get_layer(layer_name).get_weights())\n",
    "\n",
    "\n",
    "### 不要なモデルは削除し、セッショんを綺麗にする。(関数をいろいろ忘れたし、必要ないかも)\n",
    "del model\n",
    "config = tf.ほげほげ()\n",
    "sess = tf.ふーばー(config)\n",
    "K.clear_session()\n",
    "K.set_session(sess)"
   ]
  },
  {
   "cell_type": "code",
   "execution_count": null,
   "metadata": {},
   "outputs": [],
   "source": [
    "### 登録したメダルデータの特徴量を読み込む\n",
    "feature_map_As = np.load(\"~.npz\")　# 適当\n",
    "\n",
    "\n",
    "### 取り出したモデルたちでメダルデータの距離計算まで\n",
    "feature_map_Bs = feature_extract_model.predict(image_Bs)\n",
    "dists = distance_model.predict([feature_map_As, feature_map_Bs])"
   ]
  },
  {
   "cell_type": "markdown",
   "metadata": {},
   "source": [
    "### 最終的な判定\n",
    "\n",
    "ここもまじ適当なので、実装する必要"
   ]
  },
  {
   "cell_type": "code",
   "execution_count": null,
   "metadata": {},
   "outputs": [],
   "source": [
    "if np.any(res.flatten())astype(\"bool\"):\n",
    "    res = \"OK\"\n",
    "else:\n",
    "    res = \"NG\""
   ]
  }
 ],
 "metadata": {
  "kernelspec": {
   "display_name": "Python 3",
   "language": "python",
   "name": "python3"
  },
  "language_info": {
   "codemirror_mode": {
    "name": "ipython",
    "version": 3
   },
   "file_extension": ".py",
   "mimetype": "text/x-python",
   "name": "python",
   "nbconvert_exporter": "python",
   "pygments_lexer": "ipython3",
   "version": "3.6.0"
  }
 },
 "nbformat": 4,
 "nbformat_minor": 2
}
