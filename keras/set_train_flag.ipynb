{
 "cells": [
  {
   "cell_type": "code",
   "execution_count": 1,
   "metadata": {},
   "outputs": [],
   "source": [
    "import numpy as np\n",
    "import pandas as pd\n",
    "from pathlib import Path\n",
    "import cv2\n",
    "import keras\n",
    "from keras import layers\n",
    "from keras import optimizers\n",
    "from keras import models\n",
    "from keras.applications.vgg16 import VGG16\n",
    "import gc\n",
    "import tensorflow as tf\n",
    "from keras import backend as K"
   ]
  },
  {
   "cell_type": "code",
   "execution_count": 6,
   "metadata": {},
   "outputs": [],
   "source": [
    "size = 256\n",
    "fine_tuning = False\n",
    "dropout_rate = 0.5\n",
    "optimizer = optimizers.RMSprop(lr=1e-4)\n",
    "category_num = 4\n",
    "\n",
    "model = models.Sequential()\n",
    "base_model = VGG16(weights=\"imagenet\",\n",
    "                   include_top=False,\n",
    "                   input_shape=(size, size, 3))\n",
    "set_trainable = False\n",
    "for layer in base_model.layers:\n",
    "    if fine_tuning == 5:\n",
    "        if layer.name == \"block5_conv1\":\n",
    "            set_trainable = True\n",
    "    elif fine_tuning == 4:\n",
    "        if layer.name == \"block4_conv1\":\n",
    "            set_trainable = True\n",
    "    elif fine_tuning == 3:\n",
    "        if layer.name == \"block3_conv1\":\n",
    "            set_trainable = True\n",
    "    elif fine_tuning == 2:\n",
    "        if layer.name == \"block2_conv1\":\n",
    "            set_trainable = True\n",
    "    elif fine_tuning == 1:\n",
    "        if layer.name == \"block1_conv1\":\n",
    "            set_trainable = True\n",
    "    layer.trainable = set_trainable\n",
    "\n",
    "model.add(base_model)\n",
    "model.add(layers.Flatten())\n",
    "model.add(layers.Dense(512, activation=\"relu\"))\n",
    "model.add(layers.Dropout(dropout_rate))\n",
    "model.add(layers.Dense(category_num))\n",
    "model.add(layers.Activation(tf.nn.softmax))\n",
    "model.compile(loss=\"categorical_crossentropy\",\n",
    "              optimizer=optimizer,\n",
    "              metrics=[\"acc\"])"
   ]
  },
  {
   "cell_type": "code",
   "execution_count": 7,
   "metadata": {},
   "outputs": [
    {
     "name": "stdout",
     "output_type": "stream",
     "text": [
      "_________________________________________________________________\n",
      "Layer (type)                 Output Shape              Param #   \n",
      "=================================================================\n",
      "vgg16 (Model)                (None, 8, 8, 512)         14714688  \n",
      "_________________________________________________________________\n",
      "flatten_2 (Flatten)          (None, 32768)             0         \n",
      "_________________________________________________________________\n",
      "dense_2 (Dense)              (None, 512)               16777728  \n",
      "_________________________________________________________________\n",
      "dropout_1 (Dropout)          (None, 512)               0         \n",
      "_________________________________________________________________\n",
      "dense_3 (Dense)              (None, 4)                 2052      \n",
      "_________________________________________________________________\n",
      "activation_1 (Activation)    (None, 4)                 0         \n",
      "=================================================================\n",
      "Total params: 31,494,468\n",
      "Trainable params: 16,779,780\n",
      "Non-trainable params: 14,714,688\n",
      "_________________________________________________________________\n"
     ]
    }
   ],
   "source": [
    "model.summary()"
   ]
  },
  {
   "cell_type": "code",
   "execution_count": null,
   "metadata": {},
   "outputs": [],
   "source": []
  }
 ],
 "metadata": {
  "kernelspec": {
   "display_name": "Python 3",
   "language": "python",
   "name": "python3"
  },
  "language_info": {
   "codemirror_mode": {
    "name": "ipython",
    "version": 3
   },
   "file_extension": ".py",
   "mimetype": "text/x-python",
   "name": "python",
   "nbconvert_exporter": "python",
   "pygments_lexer": "ipython3",
   "version": "3.6.0"
  }
 },
 "nbformat": 4,
 "nbformat_minor": 2
}
