{
 "cells": [
  {
   "cell_type": "code",
   "execution_count": 1,
   "metadata": {},
   "outputs": [],
   "source": [
    "import numpy as np\n",
    "import cv2"
   ]
  },
  {
   "cell_type": "code",
   "execution_count": 2,
   "metadata": {},
   "outputs": [
    {
     "data": {
      "text/plain": [
       "(200, 200, 4)"
      ]
     },
     "execution_count": 2,
     "metadata": {},
     "output_type": "execute_result"
    }
   ],
   "source": [
    "img = cv2.imread(\"data/RistLogo/logo_orig_2d.png\", -1)\n",
    "img.shape"
   ]
  },
  {
   "cell_type": "code",
   "execution_count": 12,
   "metadata": {},
   "outputs": [
    {
     "name": "stdout",
     "output_type": "stream",
     "text": [
      "32\n",
      "64\n",
      "128\n",
      "256\n",
      "512\n",
      "1024\n",
      "16\n",
      "32\n",
      "64\n",
      "128\n",
      "256\n",
      "512\n"
     ]
    }
   ],
   "source": [
    "# img_16 = cv2.resize(img, (32,32))\n",
    "# img_32 = cv2.resize(img, (64,64))\n",
    "# img_64 = cv2.resize(img, (128,128))\n",
    "# img_128 = cv2.resize(img, (256,256))\n",
    "# img_256 = cv2.resize(img, (512,512))\n",
    "# img_512 = cv2.resize(img, (1024,1024))\n",
    "\n",
    "ims = []\n",
    "for i in range(4, 10):\n",
    "    size = 2**(i + 1)\n",
    "    print(size)\n",
    "    img_icon = cv2.resize(img, (size, size))\n",
    "    ims.append(img_icon)\n",
    "    \n",
    "ims_low = []\n",
    "for i in range(4, 10):\n",
    "    size = 2**(i)\n",
    "    print(size)\n",
    "    img_icon = cv2.resize(img, (size, size))\n",
    "    ims_low.append(img_icon)"
   ]
  },
  {
   "cell_type": "code",
   "execution_count": 11,
   "metadata": {},
   "outputs": [
    {
     "name": "stdout",
     "output_type": "stream",
     "text": [
      "32\n",
      "64\n",
      "128\n",
      "256\n",
      "512\n",
      "1024\n"
     ]
    }
   ],
   "source": [
    "for i in range(len(ims)):\n",
    "    size = 2**(i + 5)\n",
    "    print(size)\n",
    "    name = \"data/RistLogo/RistLogo.iconset/icon_{}x{}@2x.png\".format(size, size)\n",
    "    cv2.imwrite(name, ims[i])"
   ]
  },
  {
   "cell_type": "code",
   "execution_count": 13,
   "metadata": {},
   "outputs": [
    {
     "name": "stdout",
     "output_type": "stream",
     "text": [
      "16\n",
      "32\n",
      "64\n",
      "128\n",
      "256\n",
      "512\n"
     ]
    }
   ],
   "source": [
    "for i in range(len(ims_low)):\n",
    "    size = 2**(i + 4)\n",
    "    print(size)\n",
    "    name = \"data/RistLogo/RistLogo.iconset/icon_{}x{}.png\".format(size, size)\n",
    "    cv2.imwrite(name, ims_low[i])"
   ]
  },
  {
   "cell_type": "code",
   "execution_count": 14,
   "metadata": {},
   "outputs": [],
   "source": [
    "import subprocess"
   ]
  },
  {
   "cell_type": "code",
   "execution_count": 15,
   "metadata": {},
   "outputs": [
    {
     "data": {
      "text/plain": [
       "0"
      ]
     },
     "execution_count": 15,
     "metadata": {},
     "output_type": "execute_result"
    }
   ],
   "source": [
    "cmd = \"iconutil -c icns -o data/RistLogo/RistLogo.icns data/RistLogo/RistLogo.iconset\"\n",
    "subprocess.call(cmd.split())"
   ]
  },
  {
   "cell_type": "code",
   "execution_count": null,
   "metadata": {},
   "outputs": [],
   "source": []
  }
 ],
 "metadata": {
  "kernelspec": {
   "display_name": "Python 3",
   "language": "python",
   "name": "python3"
  },
  "language_info": {
   "codemirror_mode": {
    "name": "ipython",
    "version": 3
   },
   "file_extension": ".py",
   "mimetype": "text/x-python",
   "name": "python",
   "nbconvert_exporter": "python",
   "pygments_lexer": "ipython3",
   "version": "3.6.0"
  }
 },
 "nbformat": 4,
 "nbformat_minor": 2
}
