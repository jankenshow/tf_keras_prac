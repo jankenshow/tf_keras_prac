{
 "cells": [
  {
   "cell_type": "code",
   "execution_count": 1,
   "metadata": {},
   "outputs": [],
   "source": [
    "###modify image file because of distortion by scanning###\n",
    "\n",
    "### obtatin edge###\n",
    "\n",
    "import cv2\n",
    "import numpy as np"
   ]
  },
  {
   "cell_type": "code",
   "execution_count": null,
   "metadata": {},
   "outputs": [],
   "source": [
    "img = cv2.imread(\"test.png\")\n",
    "gray = cv2.cvtColor(img, cv2.COLOR_BGR2GRAY)\n",
    "\n",
    "ret,thresh = cv2.threshold(gray,100,255,cv2.THRESH_BINARY)"
   ]
  },
  {
   "cell_type": "code",
   "execution_count": null,
   "metadata": {},
   "outputs": [],
   "source": [
    "ret, contours, hierarchy = cv2.findContours(thresh, cv2.RETR_TREE, cv2.CHAIN_APPROX_SIMPLE )\n",
    "\n",
    "menseki=[ ]\n",
    "for i in range(0, len(contours)): \n",
    "    menseki.append([contours[i],cv2.contourArea(contours[i])])\n",
    "\n",
    "menseki.sort(key=lambda x: x[1], reverse=True)"
   ]
  },
  {
   "cell_type": "code",
   "execution_count": null,
   "metadata": {},
   "outputs": [],
   "source": [
    "epsilon = 0.1*cv2.arcLength(menseki[1][0],True)\n",
    "approx = cv2.approxPolyDP(menseki[1][0],epsilon,True)\n",
    "\n",
    "cv2.drawContours(img, approx, -1,(0, 0, 255),10)\n",
    "cv2.imwrite(\"result.png\",img)"
   ]
  },
  {
   "cell_type": "code",
   "execution_count": null,
   "metadata": {},
   "outputs": [],
   "source": [
    "approx=approx.tolist()\n",
    "\n",
    "left = sorted(approx,key=lambda x:x[0]) [:2]\n",
    "left_down= sorted(left,key=lambda x:x[0][1]) [0]\n",
    "left_up= sorted(left,key=lambda x:x[0][1]) [1]\n",
    "\n",
    "right = sorted(approx,key=lambda x:x[0]) [2:]\n",
    "right_down= sorted(right,key=lambda x:x[0][1]) [0]\n",
    "right_up= sorted(right,key=lambda x:x[0][1]) [1]"
   ]
  },
  {
   "cell_type": "code",
   "execution_count": null,
   "metadata": {},
   "outputs": [],
   "source": [
    "### modify distortion ###\n",
    "perspective1 = np.float32([left_down,right_down,right_up,left_up])\n",
    "perspective2 = np.float32([[0, 0],[1654, 0],[1654, 2340],[0, 2340]])\n",
    "psp_matrix = cv2.getPerspectiveTransform(perspective1,perspective2)\n",
    "img_psp = cv2.warpPerspective(img, psp_matrix,(1654,2340))\n",
    "cv2.imwrite(\"image_modified.png\",img_psp)"
   ]
  }
 ],
 "metadata": {
  "kernelspec": {
   "display_name": "Python 3",
   "language": "python",
   "name": "python3"
  },
  "language_info": {
   "codemirror_mode": {
    "name": "ipython",
    "version": 3
   },
   "file_extension": ".py",
   "mimetype": "text/x-python",
   "name": "python",
   "nbconvert_exporter": "python",
   "pygments_lexer": "ipython3",
   "version": "3.6.0"
  }
 },
 "nbformat": 4,
 "nbformat_minor": 2
}
