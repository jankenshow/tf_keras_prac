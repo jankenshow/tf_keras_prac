{
 "cells": [
  {
   "cell_type": "code",
   "execution_count": 1,
   "metadata": {},
   "outputs": [],
   "source": [
    "import sys, os\n",
    "import glob\n",
    "import numpy as np\n",
    "import PIL\n",
    "import cv2\n",
    "import matplotlib.pyplot as plt"
   ]
  },
  {
   "cell_type": "code",
   "execution_count": 2,
   "metadata": {},
   "outputs": [],
   "source": [
    "%matplotlib inline\n",
    "%config InlineBackend.figure_format = 'retina'"
   ]
  },
  {
   "cell_type": "code",
   "execution_count": 3,
   "metadata": {},
   "outputs": [],
   "source": [
    "files = glob.glob(\"./picture/*.*\")"
   ]
  },
  {
   "cell_type": "code",
   "execution_count": 4,
   "metadata": {},
   "outputs": [],
   "source": [
    "def padding(image, pad_h, pad_w, n):\n",
    "        if image.ndim == 2:\n",
    "            h,w = image.shape\n",
    "            sc = np.zeros((h+pad_h,w+pad_w), dtype=image.dtype)\n",
    "        else: \n",
    "            h,w,c = image.shape\n",
    "            sc = np.zeros((h+pad_h,w+pad_w,c), dtype=image.dtype)\n",
    "        sc.fill(n)\n",
    "        sc[pad_h//2:h+pad_h//2,pad_w//2:w+pad_w//2] = image\n",
    "        return(sc)"
   ]
  },
  {
   "cell_type": "code",
   "execution_count": 13,
   "metadata": {},
   "outputs": [],
   "source": [
    "ims = []\n",
    "re_ims = []\n",
    "ng_ims = []\n",
    "for i in range(len(files)):\n",
    "    img = PIL.Image.open(files[i])\n",
    "    img = np.asarray(img)\n",
    "    ims.append(img)\n",
    "    \n",
    "#     print(img.shape)\n",
    "    if i == 2:\n",
    "        n = 0\n",
    "    else:\n",
    "        n = 255\n",
    "    \n",
    "    if img.shape == (4096, 3072, 3):\n",
    "        re_img = padding(img, 4400-img.shape[0], 3083-img.shape[1], n)\n",
    "#         re_img = img.resize((4500, 3154), PIL.Image.LANCZOS)\n",
    "        re_ims.append(re_img)\n",
    "        re_img = cv2.cvtColor(re_img, cv2.COLOR_RGB2BGR)\n",
    "        cv2.imwrite(\"./picture/resized/c_{}.jpg\".format(i))\n",
    "    elif img.shape == (3072, 4096, 3):\n",
    "        re_img = padding(img, 3083-img.shape[0], 4400-img.shape[1], n)\n",
    "#         re_img = img.resize((4500, 3154), PIL.Image.LANCZOS)\n",
    "        re_ims.append(re_img)\n",
    "        re_img = cv2.cvtColor(re_img, cv2.COLOR_RGB2BGR)\n",
    "        cv2.imwrite(\"./picture/resized/c_{}.jpg\".format(i), re_img)\n",
    "    else:\n",
    "        ng_ims.append(img)\n",
    "        \n",
    "#     re_img = np.asarray(re_img)\n",
    "    \n",
    "#     plt.figure(figsize=(20,20))\n",
    "#     plt.subplot(1,2,1)\n",
    "#     plt.imshow(img)\n",
    "#     try:\n",
    "#         plt.subplot(1,2,2)\n",
    "#         plt.imshow(re_img)\n",
    "#     except:\n",
    "#         pass\n",
    "#     plt.show()"
   ]
  },
  {
   "cell_type": "code",
   "execution_count": null,
   "metadata": {},
   "outputs": [],
   "source": [
    "# for i in range(len(re_ims)):\n",
    "#     plt.figure(figsize=(20,20))\n",
    "#     plt.imshow(re_ims[i])\n",
    "#     plt.tight_layout()\n",
    "#     plt.axis('off')\n",
    "#     plt.savefig(\"./picture/resized/c_{}.png\".format(i), bbox_inches='tight', pad_inches = 0)\n",
    "#     plt.show()"
   ]
  },
  {
   "cell_type": "code",
   "execution_count": 8,
   "metadata": {},
   "outputs": [
    {
     "data": {
      "text/plain": [
       "23"
      ]
     },
     "execution_count": 8,
     "metadata": {},
     "output_type": "execute_result"
    }
   ],
   "source": [
    "len(re_ims)"
   ]
  },
  {
   "cell_type": "code",
   "execution_count": 9,
   "metadata": {},
   "outputs": [
    {
     "data": {
      "text/plain": [
       "13"
      ]
     },
     "execution_count": 9,
     "metadata": {},
     "output_type": "execute_result"
    }
   ],
   "source": [
    "len(ng_ims)"
   ]
  },
  {
   "cell_type": "code",
   "execution_count": 12,
   "metadata": {},
   "outputs": [
    {
     "name": "stdout",
     "output_type": "stream",
     "text": [
      "(3840, 2160, 3)\n",
      "(2160, 3840, 3)\n",
      "(1479, 1080, 3)\n",
      "(1186, 892, 3)\n",
      "(1108, 1478, 3)\n",
      "(1476, 1110, 3)\n",
      "(1476, 1110, 3)\n",
      "(1479, 1080, 3)\n",
      "(1479, 1080, 3)\n",
      "(1440, 2560, 3)\n",
      "(1479, 1080, 3)\n",
      "(1479, 1080, 3)\n",
      "(1479, 1080, 3)\n"
     ]
    }
   ],
   "source": [
    "sizes = []\n",
    "for i in range(len(ng_ims)):\n",
    "    print(ng_ims[i].shape)\n",
    "    sizes.append(ng_ims[i].shape)"
   ]
  },
  {
   "cell_type": "code",
   "execution_count": null,
   "metadata": {},
   "outputs": [],
   "source": [
    "# (3840, 2160) 0,1  -> (3850, 2698)\n",
    "# (1479, 1080) 2,7,8,10,11,12 -> (1600, 1121)\n",
    "# (1186, 892) 3\n",
    "# (1478, 1108) 4 -> (1600, 1121)\n",
    "# (1476, 1110) 5,6 -> (1600, 1121)\n",
    "# (2560, 1440) 9"
   ]
  },
  {
   "cell_type": "code",
   "execution_count": 20,
   "metadata": {},
   "outputs": [],
   "source": [
    "ng_ng_ims = []\n",
    "for i in range(len(ng_ims)):\n",
    "    if (ng_ims[i].shape[:2] in [(1479, 1080), (1478, 1108), (1476, 1110)]):\n",
    "        re_img = padding(ng_ims[i], 1600-ng_ims[i].shape[0], 1121-ng_ims[i].shape[1], 255)\n",
    "        re_img = cv2.cvtColor(re_img, cv2.COLOR_RGB2BGR)\n",
    "        cv2.imwrite(\"./picture/resized/d_{}.jpg\".format(i), re_img)\n",
    "    elif (ng_ims[i].shape[:2] in [(1080, 1479), (1108, 1478), (1110, 1476)]):\n",
    "        re_img = padding(ng_ims[i], 1121-ng_ims[i].shape[0], 1600-ng_ims[i].shape[1], 255)\n",
    "        re_img = cv2.cvtColor(re_img, cv2.COLOR_RGB2BGR)\n",
    "        cv2.imwrite(\"./picture/resized/d_{}.jpg\".format(i), re_img)\n",
    "    else:\n",
    "        ng_ng_ims.append(ng_ims[i])"
   ]
  },
  {
   "cell_type": "code",
   "execution_count": 19,
   "metadata": {},
   "outputs": [
    {
     "data": {
      "text/plain": [
       "4"
      ]
     },
     "execution_count": 19,
     "metadata": {},
     "output_type": "execute_result"
    }
   ],
   "source": [
    "len(ng_ng_ims)"
   ]
  },
  {
   "cell_type": "code",
   "execution_count": 21,
   "metadata": {},
   "outputs": [
    {
     "name": "stdout",
     "output_type": "stream",
     "text": [
      "(3840, 2160, 3)\n",
      "(2160, 3840, 3)\n",
      "(1186, 892, 3)\n",
      "(1440, 2560, 3)\n"
     ]
    }
   ],
   "source": [
    "sizes = []\n",
    "for i in range(len(ng_ng_ims)):\n",
    "    print(ng_ng_ims[i].shape)\n",
    "    sizes.append(ng_ng_ims[i].shape)"
   ]
  },
  {
   "cell_type": "code",
   "execution_count": 22,
   "metadata": {},
   "outputs": [
    {
     "data": {
      "text/plain": [
       "True"
      ]
     },
     "execution_count": 22,
     "metadata": {},
     "output_type": "execute_result"
    }
   ],
   "source": [
    "re_img = padding(ng_ng_ims[0], 3850-ng_ng_ims[0].shape[0], 2698-ng_ng_ims[0].shape[1], 255)\n",
    "re_img = cv2.cvtColor(re_img, cv2.COLOR_RGB2BGR)\n",
    "cv2.imwrite(\"./picture/resized/e_0.jpg\", re_img)"
   ]
  },
  {
   "cell_type": "code",
   "execution_count": 26,
   "metadata": {},
   "outputs": [
    {
     "data": {
      "text/plain": [
       "True"
      ]
     },
     "execution_count": 26,
     "metadata": {},
     "output_type": "execute_result"
    }
   ],
   "source": [
    "re_img = padding(ng_ng_ims[1], 2698-ng_ng_ims[1].shape[0], 3850-ng_ng_ims[1].shape[1], 255)\n",
    "re_img = cv2.cvtColor(re_img, cv2.COLOR_RGB2BGR)\n",
    "cv2.imwrite(\"./picture/resized/e_1.jpg\", re_img)"
   ]
  },
  {
   "cell_type": "code",
   "execution_count": 27,
   "metadata": {},
   "outputs": [
    {
     "data": {
      "text/plain": [
       "True"
      ]
     },
     "execution_count": 27,
     "metadata": {},
     "output_type": "execute_result"
    }
   ],
   "source": [
    "re_img = padding(ng_ng_ims[2], 1300-ng_ng_ims[2].shape[0], 911-ng_ng_ims[2].shape[1], 255)\n",
    "re_img = cv2.cvtColor(re_img, cv2.COLOR_RGB2BGR)\n",
    "cv2.imwrite(\"./picture/resized/e_2.jpg\", re_img)"
   ]
  },
  {
   "cell_type": "code",
   "execution_count": 28,
   "metadata": {},
   "outputs": [
    {
     "data": {
      "text/plain": [
       "True"
      ]
     },
     "execution_count": 28,
     "metadata": {},
     "output_type": "execute_result"
    }
   ],
   "source": [
    "re_img = padding(ng_ng_ims[3], 1822-ng_ng_ims[3].shape[0], 2600-ng_ng_ims[3].shape[1], 255)\n",
    "re_img = cv2.cvtColor(re_img, cv2.COLOR_RGB2BGR)\n",
    "cv2.imwrite(\"./picture/resized/e_3.jpg\", re_img)"
   ]
  },
  {
   "cell_type": "code",
   "execution_count": null,
   "metadata": {},
   "outputs": [],
   "source": []
  }
 ],
 "metadata": {
  "kernelspec": {
   "display_name": "Python 3",
   "language": "python",
   "name": "python3"
  },
  "language_info": {
   "codemirror_mode": {
    "name": "ipython",
    "version": 3
   },
   "file_extension": ".py",
   "mimetype": "text/x-python",
   "name": "python",
   "nbconvert_exporter": "python",
   "pygments_lexer": "ipython3",
   "version": "3.6.0"
  }
 },
 "nbformat": 4,
 "nbformat_minor": 2
}
